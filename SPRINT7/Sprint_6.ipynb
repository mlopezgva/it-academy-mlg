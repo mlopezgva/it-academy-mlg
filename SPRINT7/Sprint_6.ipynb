{
 "cells": [
  {
   "cell_type": "markdown",
   "id": "f9f10a48",
   "metadata": {},
   "source": [
    "Nivell 1\n",
    "===\n",
    "Exercici 1\n",
    "---\n",
    "\n",
    "### Calculadora de l'índex de massa corporal\n",
    "\n",
    "Escriu una funció que calculi l'IMC ingressat per l'usuari/ària, és a dir, qui ho executi haurà d'ingressar aquestes dades.\n",
    "\n",
    "La funció ha de classificar el resultat en les seves respectives categories\n",
    "\n",
    "### El cálculo del IMC\n",
    "Para calcular el IMC es necesario dividir el peso en kg de un paciente entre el cuadrado de su altura en metros. Con esto obtendremos un valor que se situará en uno de los siguientes rangos:\n",
    "\n",
    "Bajo peso: menos de 18,5.\n",
    "Peso normal: 18,5-24,9.\n",
    "Sobrepeso: 25-29,9.\n",
    "Obesidad: más de 30.\n",
    "\n",
    "Fórmula:\n",
    "\n",
    "$$ IMC = \\frac{P}{a^2} $$"
   ]
  },
  {
   "cell_type": "code",
   "execution_count": null,
   "id": "977092b3",
   "metadata": {
    "vscode": {
     "languageId": "plaintext"
    }
   },
   "outputs": [],
   "source": []
  }
 ],
 "metadata": {
  "language_info": {
   "name": "python"
  }
 },
 "nbformat": 4,
 "nbformat_minor": 5
}
