{
 "cells": [
  {
   "cell_type": "markdown",
   "id": "f9f10a48",
   "metadata": {},
   "source": [
    "Nivell 1\n",
    "===\n",
    "Exercici 1\n",
    "---\n",
    "\n",
    "### Calculadora de l'índex de massa corporal\n",
    "\n",
    "Escriu una funció que calculi l'IMC ingressat per l'usuari/ària, és a dir, qui ho executi haurà d'ingressar aquestes dades.\n",
    "\n",
    "La funció ha de classificar el resultat en les seves respectives categories\n",
    "\n",
    "### El cálculo del IMC\n",
    "Para calcular el IMC es necesario dividir el peso en kg de un paciente entre el cuadrado de su altura en metros. Con esto obtendremos un valor que se situará en uno de los siguientes rangos:\n",
    "\n",
    "Bajo peso: menos de 18,5.\n",
    "Peso normal: 18,5-24,9.\n",
    "Sobrepeso: 25-29,9.\n",
    "Obesidad: más de 30.\n",
    "\n",
    "Fórmula:\n",
    "\n",
    "$$ IMC = \\frac{P}{a^2} $$\n",
    "\n",
    "> NOTA:\n",
    "> \n",
    "> En el repositorio está el script completo, funcionando correctamente.\n",
    "> \n",
    "> Ejecutando en el terminal se puede llamar con los parámetros `-v` o `--verbose` para que muestre detalles\n",
    "> del cálculo del IMC.\n",
    "> \n",
    "> También se puede usar `-h` o `--help` para que muestre información sobre el uso.\n",
    "> \n",
    "> Nada de eso funciona en este entorno.\n"
   ]
  },
  {
   "cell_type": "code",
   "execution_count": 7,
   "id": "49eb2dc0",
   "metadata": {},
   "outputs": [],
   "source": [
    "def IMC(peso, altura):\n",
    "    '''\n",
    "    Calcula el índice de masa corporal (IMC)\n",
    "    con base al peso en kg y la altura en metros\n",
    "    Si la altura no es un float y supera los 50\n",
    "    asume que son cm y realiza la conversión.\n",
    "    '''\n",
    "\n",
    "    if altura > 50:\n",
    "        altura /= 100\n",
    "\n",
    "    try:\n",
    "        if verbose:\n",
    "            print(\"\\nPeso:\", peso, \"kg\\nAltura\", altura, 'm')\n",
    "\n",
    "        imc = peso / (altura ** 2)\n",
    "        if verbose:\n",
    "            print(f\"      {peso:6.2f}\\nIMC = ——————\\n      {altura: 6.2f}²\\n\\nIMC = {imc:.2f}\\n\")\n",
    "\n",
    "    except ValueError:\n",
    "        exit(\"El valor del peso o la altura son inválidos.\")\n",
    "\n",
    "    except TypeError:\n",
    "        exit(\"El valor del peso o la altura no son del tipo esperado (float|int)\")\n",
    "\n",
    "    else:\n",
    "        return imc\n",
    "\n",
    "def informeImc(imc):\n",
    "    info  = f\"En base al peso y altura indicados, su IMC es de {imc:.1f}.\\n\"\n",
    "    clase = \"Este índice le sitúa en el rango de \"\n",
    "    imccl = clasificaIMC(imc)\n",
    "    imcclass = [\n",
    "        \"bajo peso\",\n",
    "        \"peso normal\",\n",
    "        \"sobrepeso\",\n",
    "        \"Obesidad\"\n",
    "    ]\n",
    "    return info + clase + imcclass[imccl]\n",
    "\n",
    "def clasificaIMC(imc):\n",
    "    try:\n",
    "        match imc:\n",
    "            case x if x < 18.5:\n",
    "                return 0\n",
    "            case x if x < 24.9:\n",
    "                return 1\n",
    "            case x if x < 29.9:\n",
    "                return 2\n",
    "            case _:\n",
    "                return 3\n",
    "        print(\"It's OK\")\n",
    "    except ValueError:\n",
    "        exit(\"El valor del peso o la altura son inválidos.\")\n",
    "\n",
    "    except TypeError:\n",
    "        exit(\"El valor del peso o la altura no son del tipo esperado (float|int)\")\n"
   ]
  },
  {
   "cell_type": "code",
   "execution_count": 8,
   "id": "b5afbc7a",
   "metadata": {},
   "outputs": [
    {
     "name": "stdout",
     "output_type": "stream",
     "text": [
      "En base al peso y altura indicados, su IMC es de 26.2.\n",
      "Este índice le sitúa en el rango de sobrepeso\n"
     ]
    }
   ],
   "source": [
    "# Llamando directamente a las funciones\n",
    "verbose = None\n",
    "print(informeImc(IMC(67,160)))"
   ]
  },
  {
   "cell_type": "code",
   "execution_count": 9,
   "id": "850eee1c",
   "metadata": {},
   "outputs": [
    {
     "name": "stdout",
     "output_type": "stream",
     "text": [
      "\n",
      "Peso: 60 kg\n",
      "Altura 1.85 m\n",
      "       60.00\n",
      "IMC = ——————\n",
      "        1.85²\n",
      "\n",
      "IMC = 17.53\n",
      "\n",
      "En base al peso y altura indicados, su IMC es de 17.5.\n",
      "Este índice le sitúa en el rango de bajo peso\n"
     ]
    }
   ],
   "source": [
    "# Con el debug a TRUE (debería llamarse 'verbose', así está en el script...)\n",
    "# se muestra el cálculo completo y \"gráfico\"\n",
    "verbose = True\n",
    "print(informeImc(IMC(60,185)))"
   ]
  },
  {
   "cell_type": "markdown",
   "id": "4ea765cd",
   "metadata": {},
   "source": [
    "N1 Exercici 2\n",
    "---\n",
    "### Convertidor de temperatures.\n",
    "\n",
    "Existeixen diverses unitats de temperatura utilitzades en diferents contextos i regions. Les més comunes són Celsius (°C), Fahrenheit (°F) i Kelvin (K). També existeixen altres unitats com Rankine (°Ra) i Réaumur (°Re). Selecciona almenys 2 conversors, de tal manera que en introduir una temperatura retorni, com a mínim, dues conversions.\n",
    "\n",
    "Conversión de escalas de temperatura | Fórmula\n",
    "---|---\n",
    "De Celsius a Fahrenheit | ºF = ºC × 1,8 + 32\n",
    "De Celsius a Kelvin | K = ºC + 273,15\n",
    "De Celsius a Rankine | R = (ºC + 273.15) × 9/5\n",
    "De Celsius a Réaumur | ºR = (4/5) ºC\n",
    "De Fahrenheit a Celsius | ºC = (ºF – 32) / 1,8\n",
    "De Fahrenheit a Kelvin | K = (ºF – 32) / 1,8 + 273,15\n",
    "De Fahrenheit a Rankine | R = ºF + 459,67\n",
    "De Fahrenheit a Réaumur | ºF = (9/5) ºC + 32\n",
    "De Kelvin a Celsius | ºC = K – 273,15\n",
    "De Kelvin a Fahrenheit | ºF = 1,8 × (K – 273,15) + 32\n",
    "De Kelvin a Rankine | R = K × (9.5) (o: R = K / 1.8)\n",
    "De Kelvin a Réaumur | ºR = (K - 273,15) / (5/4)\n",
    "De Rankine a Celsius | ºC = (R – 491,67) × 5/9\n",
    "De Rankine a Fahrenheit | ºF = R – 459,67\n",
    "De Rankine a Kelvin | K = R × 5/9\n",
    "De Rankine a Réaumur | ºR = (R - 491.67) / 2.25000002\n",
    "De Réaumur a Celsius | ºC = (5/4) × ºR\n",
    "De Réaumur a Farenheit | ºR = (4/9)(ºF – 32)\n",
    "De Réaumur a Kelvin | K = (ºR × 1.25) + 273,15\n",
    "De Réaumur a Rankine | R = (ºR × 2.25) + 491.67"
   ]
  },
  {
   "cell_type": "code",
   "execution_count": 44,
   "id": "6ca657ae",
   "metadata": {},
   "outputs": [],
   "source": [
    "# Definir diccionario de escala, nombre y símbolo para interpretar entrada\n",
    "scale = {\n",
    "    \"Celsius\":    {\"symbol\": \"ºC\", \"code\": \"celsius\",    'longName': 'grados Celsius'},\n",
    "    \"Fahrenheit\": {\"symbol\": \"ºF\", \"code\": \"fahrenheit\", 'longName': 'grados Fahrenheit'},\n",
    "    \"Kelvin\":     {\"symbol\": \"K\",  \"code\": \"kelvin\",     'longName': 'Kelvins'},\n",
    "    \"Rankine\":    {\"symbol\": \"R\",  \"code\": \"rankine\",    'longName': 'Rankines'},\n",
    "    \"Réaumur\":    {\"symbol\": \"ºR\", \"code\": \"reaumur\",    'longName': 'grados Réaumur'}\n",
    "}\n",
    "# \"Aplana\" el diccionario anterior (\"comprehension\", se llama esto...)\n",
    "Scales = [\n",
    "    {\"name\": name, **attributes} for name, attributes in scale.items()\n",
    "]\n",
    "\n",
    "def getScaleInfo(attr, value):\n",
    "    for scale in Scales:\n",
    "        if value in scale.values():\n",
    "            return scale[attr] if attr in scale else None\n",
    "    return None\n",
    "\n",
    "def getColFrom(dic: dict, column: str):\n",
    "    return [row.get(column) for row in dic]\n",
    "\n",
    "def convertTo(\n",
    "        fromScale: str,\n",
    "        fromValue: float,\n",
    "        toScale:   str):\n",
    "\n",
    "    match fromScale.lower():\n",
    "        case 'celsius':\n",
    "            match toScale.lower():\n",
    "                case 'celsius':\n",
    "                    return fromValue\n",
    "                case 'fahrenheit':\n",
    "                    return fromValue * 1.8 + 32\n",
    "                case 'kelvin':\n",
    "                    return fromValue - 273.15\n",
    "                case 'rankine':\n",
    "                    return (fromValue + 273.15) * 1.8\n",
    "                case 'reaumur':\n",
    "                    return 0.8 * fromValue\n",
    "        case 'fahrenheit':\n",
    "            match toScale.lower():\n",
    "                case 'celsius':\n",
    "                    return (fromValue - 32)/1.8\n",
    "                case 'fahrenheit':\n",
    "                    return fromValue\n",
    "                case 'kelvin':\n",
    "                    return ((fromValue - 32)/1.8) + 273.15\n",
    "                case 'rankine':\n",
    "                    return fromValue + 459.67\n",
    "                case 'reaumur':\n",
    "                    return (fromValue * 1.8) + 32\n",
    "        case 'kelvin':\n",
    "            match toScale.lower():\n",
    "                case 'celsius':\n",
    "                    return fromValue + 273.15\n",
    "                case 'fahrenheit':\n",
    "                    return ((fromValue - 273.15)*1.8) + 32\n",
    "                case 'kelvin':\n",
    "                    return fromValue\n",
    "                case 'rankine':\n",
    "                    return fromValue * 1.8\n",
    "                case 'reaumur':\n",
    "                    return (fromValue - 273.15) / 1.25\n",
    "        case 'rankine':\n",
    "            match toScale.lower():\n",
    "                case 'celsius':\n",
    "                    return (fromValue - 491.67) / 1.8\n",
    "                case 'fahrenheit':\n",
    "                    return fromValue - 459.67\n",
    "                case 'kelvin':\n",
    "                    return fromValue / 1.8\n",
    "                case 'rankine':\n",
    "                    return fromValue\n",
    "                case 'reaumur':\n",
    "                    return (fromValue - 491.67) / 2.25\n",
    "        case 'reaumur':\n",
    "            match toScale.lower():\n",
    "                case 'celsius':\n",
    "                    return fromValue / 0.8\n",
    "                case 'fahrenheit':\n",
    "                    return (fromValue - 32) / 2.25\n",
    "                case 'kelvin':\n",
    "                    return (fromValue * 1.25) + 273.15\n",
    "                case 'rankine':\n",
    "                    return (fromValue * 2.25) + 491.67\n",
    "                case 'reaumur':\n",
    "                    return fromValue\n",
    "\n",
    "# Función para que se pueda llamar en el NB\n",
    "def tempConvPyNB(tempValue: float, fromScale: str, toScale: str, verbose: bool=True):\n",
    "    tempValue = tempValue or askNumValue(\"Temperatura a convertir: \")\n",
    "    fromScale = fromScale or input(\"Escala de origen (ver ayuda para opciones): \")\n",
    "    toScale   = toScale   or input(\"Convertir a (ver ayuda para opciones): \")\n",
    "    verbose   = verbose   or False\n",
    "\n",
    "    fromScale = getScaleInfo('code', fromScale) if len(fromScale) < 3 else fromScale\n",
    "    toScale   = getScaleInfo('code', toScale)   if len(toScale)   < 3 else toScale\n",
    "\n",
    "    result = convertTo(fromScale, tempValue, toScale)\n",
    "    if verbose:\n",
    "        print(f\"{tempValue:.2f} {getScaleInfo('symbol', fromScale)}\",\n",
    "              f\"({getScaleInfo('longName', fromScale)})\",\n",
    "              f\"son {result:.2f} {getScaleInfo('symbol', toScale)}\",\n",
    "              f\"({getScaleInfo('longName', toScale)}).\")\n",
    "    else:\n",
    "        print(f\"{tempValue}{getScaleInfo('symbol', fromScale)} = {result:.2f}{getScaleInfo('symbol', toScale)}\")"
   ]
  },
  {
   "cell_type": "code",
   "execution_count": 46,
   "id": "445c4a27",
   "metadata": {},
   "outputs": [
    {
     "name": "stdout",
     "output_type": "stream",
     "text": [
      "55.55555555555556\n"
     ]
    }
   ],
   "source": [
    "print(convertTo(\"rankine\", 100, \"kelvin\"))"
   ]
  },
  {
   "cell_type": "code",
   "execution_count": 47,
   "id": "b11096e6",
   "metadata": {},
   "outputs": [
    {
     "name": "stdout",
     "output_type": "stream",
     "text": [
      "559.67R = 100.00ºF\n",
      "100ºF = 37.78ºC\n",
      "37.78ºC = 30.22ºR\n",
      "30.22ºR = 310.92K\n",
      "310.92K = 559.66R\n",
      "50.00 K (Kelvins) son 90.00 R (Rankines).\n",
      "50.00 ºC (grados Celsius) son 122.00 ºF (grados Fahrenheit).\n"
     ]
    }
   ],
   "source": [
    "# Llamando a esta función, tenemos la misma respuesta que\n",
    "# el script `n1e2_tempConverter.py` que está en el repositorio.\n",
    "verbose = False\n",
    "tempConvPyNB(559.67, \"rankine\", \"Fahrenheit\", verbose)\n",
    "tempConvPyNB(100, \"ºF\", \"Celsius\", verbose)\n",
    "tempConvPyNB(37.78, \"ºC\", \"reaumur\", verbose)\n",
    "tempConvPyNB(30.22, 'ºR', 'K', verbose)\n",
    "tempConvPyNB(310.92, 'K', 'R', verbose)\n",
    "\n",
    "verbose = True\n",
    "tempConvPyNB(50, \"K\", \"R\", verbose)\n",
    "tempConvPyNB(50, \"ºC\", \"ºF\", verbose)\n"
   ]
  },
  {
   "cell_type": "markdown",
   "id": "c15018bf",
   "metadata": {},
   "source": [
    "### NOTE\n",
    "> Este código está modificado del original que está en el repositorio (`n1e2_tempConverter.py`) que funciona con todas las opciones posibles (usar `n1e2_tempConverter.py -h` para verlas) en el terminal, para que se pueda ejecutar en este entorno JPyNB."
   ]
  },
  {
   "cell_type": "markdown",
   "id": "4338e2b3",
   "metadata": {},
   "source": [
    "## N1 Exercici 3\n",
    "Comptador de paraules d'un text.\n",
    "\n",
    "Escriu una funció que donat un text, mostri les vegades que apareix cada paraula."
   ]
  },
  {
   "cell_type": "code",
   "execution_count": 49,
   "id": "186c9b05",
   "metadata": {},
   "outputs": [],
   "source": [
    "import os\n",
    "import re\n",
    "\n",
    "skipOneCount = False\n",
    "\n",
    "def word_count(data):\n",
    "    response = []\n",
    "    global skipOneCount\n",
    "    if os.path.isfile(data):\n",
    "        with (open(data, 'r') as fileToRead):\n",
    "            strToCount = fileToRead.read()\n",
    "    else:\n",
    "        strToCount = data\n",
    "\n",
    "    # Elimina caracteres no alfabéticos, y también los números sueltos\n",
    "    words = re.sub(\"(\\b\\d+\\b)|[^a-zA-Z0-9ÁÄÃÂÀÉËÊÈÍÏÎÓÖÕÔÒÚÜÛÙÑáäãâàéëêèíïîóöõôòúüûùñ @-]\", ' ', strToCount).split()\n",
    "    distinctWords = set(words)\n",
    "    template = \"{} - aparece {} {}\"\n",
    "\n",
    "    max_word_len = len(max(distinctWords, key=len))\n",
    "    for w in distinctWords:\n",
    "        wc = words.count(w)\n",
    "\n",
    "        w = f\"{w:<{max_word_len}}\"\n",
    "        if wc == 1 and skipOneCount:\n",
    "            continue\n",
    "        response.append(template.format(w, wc, \"vez\" if wc == 1 else \"veces\"))\n",
    "    return \"\\n\".join(response)\n"
   ]
  },
  {
   "cell_type": "code",
   "execution_count": 30,
   "id": "13e049fe",
   "metadata": {},
   "outputs": [
    {
     "name": "stdout",
     "output_type": "stream",
     "text": [
      "una     - aparece 3 veces\n",
      "si      - aparece 1 vez\n",
      "palabra - aparece 1 vez\n",
      "de      - aparece 2 veces\n",
      "vez     - aparece 1 vez\n",
      "o       - aparece 1 vez\n",
      "más     - aparece 2 veces\n",
      "Muestra - aparece 1 vez\n",
      "sale    - aparece 1 vez\n",
      "None\n",
      "\n",
      "No mostrar las palabras que solo aparecen una vez.\n",
      "\n",
      "una     - aparece 3 veces\n",
      "de      - aparece 2 veces\n",
      "más     - aparece 2 veces\n",
      "None\n"
     ]
    }
   ],
   "source": [
    "skipOneCount = None\n",
    "\n",
    "print(word_count(\"Muestra si una palabra (o más de una) sale más de una vez\"))\n",
    "\n",
    "skipOneCount = True\n",
    "\n",
    "print(\"\\nNo mostrar las palabras que solo aparecen una vez.\\n\")\n",
    "\n",
    "print(word_count(\"Muestra si una palabra (o más de una) sale más de una vez\"))"
   ]
  },
  {
   "cell_type": "code",
   "execution_count": 80,
   "id": "9db9c715",
   "metadata": {},
   "outputs": [
    {
     "name": "stdout",
     "output_type": "stream",
     "text": [
      "Ignorando las que solo salen una vez:\n",
      "de             - aparece 5 veces\n",
      "la             - aparece 8 veces\n",
      "F              - aparece 2 veces\n",
      "Celsius        - aparece 3 veces\n",
      "que            - aparece 2 veces\n",
      "0              - aparece 5 veces\n",
      "Kelvin         - aparece 2 veces\n",
      "ebullición     - aparece 2 veces\n",
      "a              - aparece 3 veces\n",
      "punto          - aparece 3 veces\n",
      "del            - aparece 5 veces\n",
      "R              - aparece 4 veces\n",
      "y              - aparece 3 veces\n",
      "Farenheit      - aparece 2 veces\n",
      "se             - aparece 3 veces\n",
      "como           - aparece 3 veces\n",
      "Basada         - aparece 2 veces\n",
      "Escala         - aparece 2 veces\n",
      "UK             - aparece 2 veces\n",
      "el             - aparece 5 veces\n",
      "sitúa          - aparece 2 veces\n",
      "C              - aparece 2 veces\n",
      "agua           - aparece 2 veces\n",
      "con            - aparece 2 veces\n",
      "en             - aparece 11 veces\n"
     ]
    }
   ],
   "source": [
    "# Aprovechando un texto anterior...\n",
    "str = '''\\\n",
    "En este programa se pueden utilizar las siquientes escalas:\n",
    "\n",
    "  ºC  Celsius   Escala originalmente con el 0 en la ebullición del agua y el 100\n",
    "                en la solidificación, que luego se invirtió y quedó como la\n",
    "                conocemos hoy en día.\n",
    "   K  Kelvin    Basada en la Celsius, sitúa sin embargo el punto 0 en el llamado\n",
    "                Cero Absoluto, a -273,15ºC. Es la unidad de temperatura del\n",
    "                Sistema Internacional de Medidas, con la Celsius como accesoria.\n",
    "  ºF  Farenheit Utilizada casi que exclusivamente en los EUA, Canadá o UK.\n",
    "   R  Rankine   Basada en la escala Farenheit, sitúa, como la Kelvin, su punto 0\n",
    "  Ra            en el 0 absoluto, a -459,67ºF. Aún se emplea para hacer estudios\n",
    "                termodinámicos en UK (creada en Escocia) y Estados Unidos.\n",
    "  ºR  Réaumur   Escala del s. XVII prácticamente en desuso, va de 0ºR a 80ºR\n",
    " ºRé            también del punto de fusión del agua al de ebullición.\n",
    " '''\n",
    "\n",
    "# word_count(str)\n",
    "print(\"Ignorando las que solo salen una vez:\")\n",
    "skipOneCount = True\n",
    "word_count(str)\n"
   ]
  },
  {
   "cell_type": "code",
   "execution_count": 50,
   "id": "c1e9a832",
   "metadata": {},
   "outputs": [
    {
     "data": {
      "text/plain": [
       "'la         - aparece 3 veces\\nvea        - aparece 2 veces\\nde         - aparece 7 veces\\nel         - aparece 4 veces\\nalba       - aparece 4 veces\\nblanca     - aparece 3 veces\\nDios       - aparece 2 veces\\npÃ         - aparece 2 veces\\nNi         - aparece 2 veces\\nlo         - aparece 2 veces\\ncon        - aparece 4 veces\\ncasta      - aparece 3 veces\\nte         - aparece 3 veces\\nque        - aparece 5 veces\\ncarnes     - aparece 2 veces\\nlÃ         - aparece 2 veces\\nlos        - aparece 4 veces\\nnÃ         - aparece 3 veces\\ntÃ         - aparece 2 veces\\npor        - aparece 2 veces\\ntodas      - aparece 2 veces\\na          - aparece 5 veces\\nme         - aparece 10 veces\\npretÃ      - aparece 3 veces\\nTÃ         - aparece 6 veces\\nperdone    - aparece 2 veces\\ncuando     - aparece 2 veces\\nlas        - aparece 7 veces\\npretendes  - aparece 3 veces\\nse         - aparece 2 veces\\nquieres    - aparece 6 veces\\nal         - aparece 2 veces\\nen         - aparece 4 veces\\nndeme      - aparece 3 veces\\ny          - aparece 4 veces'"
      ]
     },
     "execution_count": 50,
     "metadata": {},
     "output_type": "execute_result"
    }
   ],
   "source": [
    "skipOneCount = True\n",
    "word_count('tu_me_quieres_blanca.txt')"
   ]
  },
  {
   "cell_type": "markdown",
   "id": "8340610c",
   "metadata": {},
   "source": [
    "### Exercici 4\n",
    "> Diccionari invers.\n",
    "\n",
    "Resulta que el client té una enquesta molt antiga que s'emmagatzema en un diccionari i els resultats els necessita al revés, és a dir, intercanviats les claus i els valors. Els valors i claus en el diccionari original són únics; si aquest no és el cas, la funció hauria d'imprimir un missatge d'advertiment."
   ]
  },
  {
   "cell_type": "code",
   "execution_count": null,
   "id": "10c80776",
   "metadata": {},
   "outputs": [
    {
     "name": "stdout",
     "output_type": "stream",
     "text": [
      "Ejemplo 1:\n",
      "{'fruta': 'banana', 'verdura': 'tomate', 'legumbre': 'garbanzo'}\n",
      "Inverted: \n",
      "{'banana': 'fruta', 'tomate': 'verdura', 'garbanzo': 'legumbre'}\n",
      "\n",
      "Ejemplo 2:\n",
      "{'fruta': 'tomate', 'verdura': 'tomate', 'legumbre': 'garbanzo'}\n",
      "Inverted:\n",
      "Error: multiple keys for same value\n"
     ]
    }
   ],
   "source": [
    "def invertDict(dicc: dict={}):\n",
    "    if len(dicc) == 0:\n",
    "        return (\"Empty dictionary!\")\n",
    "\n",
    "    if len(set(dicc.values())) != len(dicc):\n",
    "        return (f\"Error: multiple keys for same value\")\n",
    "\n",
    "    invDicc = {}\n",
    "\n",
    "    for (k, v) in dicc.items():\n",
    "        invDicc[v] = k\n",
    "\n",
    "    return invDicc\n",
    "\n",
    "dicc = {\"fruta\": \"banana\", \"verdura\": \"tomate\", \"legumbre\": \"garbanzo\"}\n",
    "\n",
    "print(\"Ejemplo 1:\", dicc, \"Inverted: \", invertDict(dicc), sep=\"\\n\")\n",
    "\n",
    "dicc = {\"fruta\": \"tomate\", \"verdura\": \"tomate\", \"legumbre\": \"garbanzo\"}\n",
    "\n",
    "print(\"\\nEjemplo 2:\", dicc, \"Inverted:\", invertDict(dicc), sep=\"\\n\")"
   ]
  },
  {
   "cell_type": "markdown",
   "id": "ec187509",
   "metadata": {},
   "source": [
    "## Nivell 2\n",
    "### Exercici 1\n",
    "> Diccionari invers amb duplicats\n",
    "\n",
    "Continuant amb l'exercici 4 del nivell 1: al client es va oblidar de comentar un detall i resulta que els valors en el diccionari original poden duplicar-se i més, per la qual cosa les claus intercanviades poden tenir duplicats. En aquest cas, en l'exercici anterior imprimies un missatge d'advertiment, ara, els valors del diccionari resultant hauran d'emmagatzemar-se com una llista. Tingues en compte que si és un valor únic no ha de ser una llista."
   ]
  },
  {
   "cell_type": "code",
   "execution_count": 6,
   "id": "b84e082a",
   "metadata": {},
   "outputs": [
    {
     "name": "stdout",
     "output_type": "stream",
     "text": [
      "Ejemplo 1:\n",
      "{'fruta': 'banana', 'verdura': 'tomate', 'legumbre': 'garbanzo'}\n",
      "Inverted: \n",
      "{'banana': 'fruta', 'tomate': 'verdura', 'garbanzo': 'legumbre'}\n",
      "\n",
      "Ejemplo 2:\n",
      "{'fruta': 'tomate', 'verdura': 'tomate', 'legumbre': 'garbanzo'}\n",
      "Inverted:\n",
      "{'tomate': ['fruta', 'verdura'], 'garbanzo': 'legumbre'}\n"
     ]
    }
   ],
   "source": [
    "def invertDict(dicc: dict={}):\n",
    "    if len(dicc) == 0:\n",
    "        return (\"Empty dictionary!\")\n",
    "\n",
    "    invDicc = {}\n",
    "\n",
    "    for (k, v) in dicc.items():\n",
    "        # print(f\"k: {k=} , v: {v=}\")\n",
    "        new_value = k\n",
    "\n",
    "        if v in invDicc.keys():\n",
    "            # print(f\"Error: multiple keys for same value '{v}'\")\n",
    "            # print(type(invDicc[v]))\n",
    "            # print(\"v:\", invDicc[v], k)\n",
    "            new_value = [invDicc[v], k] if type(invDicc[v]) is str \\\n",
    "                                        else invDicc[v].append(k)\n",
    "            # print(f\"Added {new_value=}\")\n",
    "        invDicc[v] = new_value\n",
    "\n",
    "    return invDicc\n",
    "\n",
    "dicc = {\"fruta\": \"banana\", \"verdura\": \"tomate\", \"legumbre\": \"garbanzo\"}\n",
    "\n",
    "print(\"Ejemplo 1:\", dicc, \"Inverted: \", invertDict(dicc), sep=\"\\n\")\n",
    "\n",
    "dicc = {\"fruta\": \"tomate\", \"verdura\": \"tomate\", \"legumbre\": \"garbanzo\"}\n",
    "\n",
    "print(\"\\nEjemplo 2:\", dicc, \"Inverted:\", invertDict(dicc), sep=\"\\n\")"
   ]
  },
  {
   "cell_type": "markdown",
   "id": "7206f655",
   "metadata": {},
   "source": [
    "### Exercici 2\n",
    "> Conversió de tipus de dades\n",
    "\n",
    "El client rep una llista de dades i necessita generar dues llistes, la primera on estaran tots els elements que es van poder convertir en flotants i l'altra on estan els elements que no es van poder convertir. Exemple de la llista que rep el client:\n",
    "\n",
    "    [ '1.3', 'one' , '1e10' , 'seven', '3-1/2', ('2',1,1.4,'not-a-number'), [1,2,'3','3.4']]]"
   ]
  },
  {
   "cell_type": "code",
   "execution_count": 93,
   "id": "82e42024",
   "metadata": {},
   "outputs": [
    {
     "name": "stdout",
     "output_type": "stream",
     "text": [
      "Numeric values: [1.3, 10000000000.0, 2, 1, 1.4, 1, 2, 3, 3.4]\n",
      "Non-Numerics ['one', 'seven', '3-1/2', 'not-a-number']\n"
     ]
    }
   ],
   "source": [
    "inputData = [ '1.3', 'one' , '1e10' , 'seven', '3-1/2', ('2',1,1.4,'not-a-number'), [1,2,'3','3.4']]\n",
    "\n",
    "def convertibles(values: list):\n",
    "    '''\n",
    "    Separa los valores de una lista entre \"numéricos\" y no numéricos, convirtiendo\n",
    "    los valores numéricos a float o int, según sean.\n",
    "    '''\n",
    "    numerics  = []\n",
    "    no_nums   = []\n",
    "    flattened = []\n",
    "\n",
    "    for i in values:\n",
    "        # print(i, isinstance(i, (int, str, float)))\n",
    "        flattened.append(i) if isinstance(i, (int, str, float)) else flattened.extend(i)\n",
    "\n",
    "    for i in flattened:\n",
    "        try:\n",
    "            num = float(i)\n",
    "            numerics.append(\n",
    "                i if isinstance(i, (int, float))\n",
    "                    else float(i) if 'e' in i or '.' in i\n",
    "                    else int(i)\n",
    "            )\n",
    "        except ValueError:\n",
    "            no_nums.append(i)\n",
    "\n",
    "    return {\"Numeric values:\": numerics, \"Non-Numerics\": no_nums}\n",
    "\n",
    "# flatten_list(inputData)\n",
    "separados = convertibles(inputData)\n",
    "for x in separados:\n",
    "    print(x, separados[x])"
   ]
  },
  {
   "cell_type": "markdown",
   "id": "31fcda3b",
   "metadata": {},
   "source": [
    "## Nivell 3\n",
    "### Exercici 1\n",
    "> Comptador i endreçador de paraules d'un text.\n",
    "\n",
    "El client va quedar content amb el comptador de paraules, però ara vol llegir arxius TXT i que calculi la freqüència de cada paraula ordenades dins de les entrades habituals del diccionari segons la lletra amb la qual comencen, és a dir, les claus han d'anar de la A a la Z i dins de la A hem d'anar de la A la Z."
   ]
  },
  {
   "cell_type": "code",
   "execution_count": 85,
   "id": "d3ba0a76",
   "metadata": {},
   "outputs": [
    {
     "ename": "AttributeError",
     "evalue": "'range' object has no attribute 'items'",
     "output_type": "error",
     "traceback": [
      "\u001b[0;31m---------------------------------------------------------------------------\u001b[0m",
      "\u001b[0;31mAttributeError\u001b[0m                            Traceback (most recent call last)",
      "\u001b[0;32m/tmp/ipykernel_605908/3860234592.py\u001b[0m in \u001b[0;36m<module>\u001b[0;34m\u001b[0m\n\u001b[1;32m      7\u001b[0m \u001b[0mlista_agrupada\u001b[0m    \u001b[0;34m=\u001b[0m \u001b[0mrange\u001b[0m\u001b[0;34m(\u001b[0m\u001b[0mord\u001b[0m\u001b[0;34m(\u001b[0m\u001b[0;34m'a'\u001b[0m\u001b[0;34m)\u001b[0m\u001b[0;34m,\u001b[0m \u001b[0mord\u001b[0m\u001b[0;34m(\u001b[0m\u001b[0;34m'z'\u001b[0m\u001b[0;34m)\u001b[0m\u001b[0;34m)\u001b[0m\u001b[0;34m\u001b[0m\u001b[0;34m\u001b[0m\u001b[0m\n\u001b[1;32m      8\u001b[0m \u001b[0;34m\u001b[0m\u001b[0m\n\u001b[0;32m----> 9\u001b[0;31m \u001b[0mlista_agrupada\u001b[0m \u001b[0;34m=\u001b[0m \u001b[0;34m[\u001b[0m\u001b[0;34m{\u001b[0m\u001b[0mname\u001b[0m\u001b[0;34m:\u001b[0m \u001b[0;34m\"letra\"\u001b[0m\u001b[0;34m,\u001b[0m \u001b[0;34m**\u001b[0m\u001b[0mattr\u001b[0m\u001b[0;34m}\u001b[0m \u001b[0;32mfor\u001b[0m \u001b[0mname\u001b[0m\u001b[0;34m,\u001b[0m \u001b[0mattr\u001b[0m \u001b[0;32min\u001b[0m \u001b[0mlista_agrupada\u001b[0m\u001b[0;34m.\u001b[0m\u001b[0mitems\u001b[0m\u001b[0;34m(\u001b[0m\u001b[0;34m)\u001b[0m\u001b[0;34m]\u001b[0m\u001b[0;34m\u001b[0m\u001b[0;34m\u001b[0m\u001b[0m\n\u001b[0m",
      "\u001b[0;31mAttributeError\u001b[0m: 'range' object has no attribute 'items'"
     ]
    }
   ],
   "source": [
    "# Para este, aprovechar la salida del n1e3, quizá modificando la salida con algún parámetro (-n, --num-only, o -j, --json o -o, --object), ordenar la lista y separar letra a letra.\n",
    "palabras = word_count('tu_me_quieres_blanca.txt')\n",
    "\n",
    "type(palabras)\n",
    "\n",
    "lista_de_palabras = palabras.split(\"\\n\")\n",
    "lista_agrupada    = range(ord('a'), ord('z'))\n",
    "\n",
    "lista_agrupada = [{name: \"letra\", **attr} for name, attr in lista_agrupada.items()]\n"
   ]
  }
 ],
 "metadata": {
  "kernelspec": {
   "display_name": "Python 3",
   "language": "python",
   "name": "python3"
  },
  "language_info": {
   "codemirror_mode": {
    "name": "ipython",
    "version": 3
   },
   "file_extension": ".py",
   "mimetype": "text/x-python",
   "name": "python",
   "nbconvert_exporter": "python",
   "pygments_lexer": "ipython3",
   "version": "3.11.9"
  }
 },
 "nbformat": 4,
 "nbformat_minor": 5
}
