{
 "cells": [
  {
   "cell_type": "markdown",
   "id": "f9f10a48",
   "metadata": {},
   "source": [
    "## Nivel 1\n",
    "\n",
    "### Ejercicio 1\n",
    "\n",
    "#### Calculadora de l'índex de massa corporal\n",
    "\n",
    "Escriu una funció que calculi l'IMC ingressat per l'usuari/ària, és a dir, qui ho executi haurà d'ingressar aquestes dades.\n",
    "\n",
    "La funció ha de classificar el resultat en les seves respectives categories\n",
    "\n",
    "#### El cálculo del IMC\n",
    "Para calcular el IMC es necesario dividir el peso en kg de un paciente entre el cuadrado de su altura en metros. Con esto obtendremos un valor que se situará en uno de los siguientes rangos:\n",
    "\n",
    "Bajo peso: menos de 18,5.\n",
    "Peso normal: 18,5-24,9.\n",
    "Sobrepeso: 25-29,9.\n",
    "Obesidad: más de 30.\n",
    "\n",
    "Fórmula:\n",
    "\n",
    "$$ IMC = \\frac{P}{a^2} $$\n",
    "\n",
    "> NOTA:\n",
    "> \n",
    "> En el repositorio está el script completo, funcionando correctamente.\n",
    "> \n",
    "> Ejecutando en el terminal se puede llamar con los parámetros `-v` o `--verbose` para que muestre detalles\n",
    "> del cálculo del IMC.\n",
    "> \n",
    "> También se puede usar `-h` o `--help` para que muestre información sobre el uso.\n",
    "> \n",
    "> Nada de eso funciona en este entorno.\n"
   ]
  },
  {
   "cell_type": "code",
   "execution_count": 2,
   "id": "49eb2dc0",
   "metadata": {},
   "outputs": [],
   "source": [
    "def IMC(peso, altura):\n",
    "    global verbose\n",
    "    '''\n",
    "    Calcula el índice de masa corporal (IMC)\n",
    "    con base al peso en kg y la altura en metros\n",
    "    Si la altura no es un float y supera los 50\n",
    "    asume que son cm y realiza la conversión.\n",
    "    '''\n",
    "\n",
    "    if altura > 50:\n",
    "        altura /= 100\n",
    "\n",
    "    try:\n",
    "        if verbose:\n",
    "            print(\"\\nPeso:\", peso, \"kg\\nAltura\", altura, 'm')\n",
    "\n",
    "        imc = peso / (altura ** 2)\n",
    "        if verbose:\n",
    "            print(f\"      {peso:6.2f}\\nIMC = ——————\\n      {altura: 6.2f}²\\n\\nIMC = {imc:.2f}\\n\")\n",
    "\n",
    "    except ValueError:\n",
    "        exit(\"El valor del peso o la altura son inválidos.\")\n",
    "\n",
    "    except TypeError:\n",
    "        exit(\"El valor del peso o la altura no son del tipo esperado (float|int)\")\n",
    "\n",
    "    else:\n",
    "        return imc\n",
    "\n",
    "def informeImc(imc):\n",
    "    info  = f\"En base al peso y altura indicados, su IMC es de {imc:.1f}.\\n\"\n",
    "    clase = \"Este índice le sitúa en el rango de \"\n",
    "    imccl = clasificaIMC(imc)\n",
    "    imcclass = [\n",
    "        \"bajo peso\",\n",
    "        \"peso normal\",\n",
    "        \"sobrepeso\",\n",
    "        \"Obesidad\"\n",
    "    ]\n",
    "    return info + clase + imcclass[imccl]\n",
    "\n",
    "def clasificaIMC(imc):\n",
    "    try:\n",
    "        match imc:\n",
    "            case x if x < 18.5:\n",
    "                return 0\n",
    "            case x if x < 24.9:\n",
    "                return 1\n",
    "            case x if x < 29.9:\n",
    "                return 2\n",
    "            case _:\n",
    "                return 3\n",
    "        print(\"It's OK\")\n",
    "    except ValueError:\n",
    "        exit(\"El valor del peso o la altura son inválidos.\")\n",
    "\n",
    "    except TypeError:\n",
    "        exit(\"El valor del peso o la altura no son del tipo esperado (float|int)\")\n"
   ]
  },
  {
   "cell_type": "code",
   "execution_count": 3,
   "id": "b5afbc7a",
   "metadata": {},
   "outputs": [
    {
     "name": "stdout",
     "output_type": "stream",
     "text": [
      "En base al peso y altura indicados, su IMC es de 26.2.\n",
      "Este índice le sitúa en el rango de sobrepeso\n"
     ]
    }
   ],
   "source": [
    "# Llamando directamente a las funciones\n",
    "verbose = None\n",
    "print(informeImc(IMC(67,160)))"
   ]
  },
  {
   "cell_type": "code",
   "execution_count": 4,
   "id": "850eee1c",
   "metadata": {},
   "outputs": [
    {
     "name": "stdout",
     "output_type": "stream",
     "text": [
      "\n",
      "Peso: 60 kg\n",
      "Altura 1.85 m\n",
      "       60.00\n",
      "IMC = ——————\n",
      "        1.85²\n",
      "\n",
      "IMC = 17.53\n",
      "\n",
      "En base al peso y altura indicados, su IMC es de 17.5.\n",
      "Este índice le sitúa en el rango de bajo peso\n"
     ]
    }
   ],
   "source": [
    "# Con el debug a TRUE (debería llamarse 'verbose', así está en el script...)\n",
    "# se muestra el cálculo completo y \"gráfico\"\n",
    "verbose = True\n",
    "print(informeImc(IMC(60,185)))"
   ]
  },
  {
   "cell_type": "markdown",
   "id": "4ea765cd",
   "metadata": {},
   "source": [
    "### Exercici 2\n",
    "\n",
    "#### Convertidor de temperatures.\n",
    "\n",
    "Existeixen diverses unitats de temperatura utilitzades en diferents contextos i regions. Les més comunes són Celsius (°C), Fahrenheit (°F) i Kelvin (K). També existeixen altres unitats com Rankine (°Ra) i Réaumur (°Re). Selecciona almenys 2 conversors, de tal manera que en introduir una temperatura retorni, com a mínim, dues conversions."
   ]
  },
  {
   "cell_type": "code",
   "execution_count": null,
   "id": "6ca657ae",
   "metadata": {},
   "outputs": [],
   "source": [
    "# Definir diccionario de escala, nombrey símbolo para interpretar entrada\n",
    "# Define conversiones de y a Kelvin para realizar las conversiones\n",
    "scales = {\n",
    "    \"celsius\":    {\n",
    "        \"symbol\":   \"ºC\",\n",
    "        'name':     \"Celsius\",\n",
    "        'longName': 'grados Celsius',\n",
    "        'to_k':     (lambda temp: 273.15 + temp),\n",
    "        'from_k':   (lambda temp: temp - 273.15)\n",
    "    },\n",
    "    \"fahrenheit\": {\n",
    "        \"symbol\":   \"ºF\",\n",
    "        'name':     \"Fahrenheit\",\n",
    "        'longName': 'grados Fahrenheit',\n",
    "        'to_k':     (lambda temp: ((temp - 32) / 1.8) + 273.15),\n",
    "        'from_k':   (lambda temp: ((temp - 273.15) * 1.8) + 32)\n",
    "    },\n",
    "    \"kelvin\":     {\n",
    "        \"symbol\":   \"K\",\n",
    "        'name':     \"Kelvin\",\n",
    "        'longName': 'Kelvins',\n",
    "        'to_k':     (lambda temp: temp),\n",
    "        'from_k':   (lambda temp: temp)\n",
    "    },\n",
    "    \"rankine\":    {\n",
    "        \"symbol\":   \"R\",\n",
    "        'name':     \"Rankine\",\n",
    "        'longName': 'Rankines',\n",
    "        'to_k':     (lambda temp: temp / 1.8),\n",
    "        'from_k':   (lambda temp: temp * 1.8)\n",
    "    },\n",
    "    \"reaumur\":    {\n",
    "        \"symbol\":   \"ºR\",\n",
    "        'name':     \"Réaumur\",\n",
    "        'longName': 'grados Réaumur',\n",
    "        'to_k':     (lambda temp: (temp * 1.25) + 273.15),\n",
    "        'from_k':   (lambda temp: (temp - 273.15) / 1.25)\n",
    "    }\n",
    "}\n",
    "\n",
    "def get_scale_info(attr, value):\n",
    "    # \"Aplana\" el diccionario anterior (\"comprehension\", se llama esto...)\n",
    "    Scales = [\n",
    "        {\"code\": name, **attributes} for name, attributes in scales.items()\n",
    "    ]\n",
    "\n",
    "    for scale in Scales:\n",
    "        if value in scale.values():\n",
    "            return scale[attr] if attr in scale else ''\n",
    "    return ''\n",
    "\n",
    "def convert_to(\n",
    "        fromValue: float,\n",
    "        fromScale: str,\n",
    "        toScale:   str):\n",
    "\n",
    "    return scales[toScale]['from_k'](\n",
    "        scales[fromScale]['to_k'](fromValue)\n",
    "    )\n",
    "\n",
    "def print_conversion(tempValue, fromScale, toScale, result, verbose):\n",
    "    if verbose:\n",
    "        print(f\"{tempValue:.2f} {get_scale_info('symbol', fromScale)}\",\n",
    "              f\"({get_scale_info('longName', fromScale)})\",\n",
    "              f\"son {result:.2f} {get_scale_info('symbol', toScale)}\",\n",
    "              f\"({get_scale_info('longName', toScale)}).\")\n",
    "    else:\n",
    "        print(f\"{tempValue}{get_scale_info('symbol', fromScale)} = {result:.2f}{get_scale_info('symbol', toScale)}\")\n",
    "\n",
    "\n",
    "# Función para que se pueda llamar en el NB\n",
    "def tempConvPyNB(tempValue: float=None, fromScale: str='', toScale: str='', verbose: bool=True):\n",
    "    tempValue = tempValue or float(input(\"Temperatura a convertir: \"))\n",
    "    fromScale = fromScale or input(\"Escala de origen (ver ayuda para opciones): \")\n",
    "    toScale   = toScale   or input(\"Convertir a (ver ayuda para opciones): \")\n",
    "    verbose   = verbose   or False\n",
    "\n",
    "    fromScale = get_scale_info('code', fromScale) # if len(fromScale) < 3 else fromScale\n",
    "    toScale   = get_scale_info('code', toScale)   # if len(toScale)   < 3 else toScale\n",
    "\n",
    "    if not toScale:\n",
    "        for to_scale in scales.keys():\n",
    "            # print(f\"Convierte de {fromScale} a {to_scale}\")\n",
    "            if fromScale == to_scale:\n",
    "                continue\n",
    "            result = convert_to(tempValue, fromScale, to_scale)\n",
    "            print_conversion(tempValue, fromScale, to_scale, result, verbose)\n",
    "    else:\n",
    "        result = convert_to(tempValue, fromScale, toScale)\n",
    "        print_conversion(tempValue, fromScale, toScale, result, verbose)\n"
   ]
  },
  {
   "cell_type": "code",
   "execution_count": 6,
   "id": "445c4a27",
   "metadata": {},
   "outputs": [
    {
     "name": "stdout",
     "output_type": "stream",
     "text": [
      "55.55555555555556\n"
     ]
    }
   ],
   "source": [
    "print(convert_to(100, \"rankine\", \"kelvin\"))"
   ]
  },
  {
   "cell_type": "code",
   "execution_count": null,
   "id": "df3ffce5",
   "metadata": {},
   "outputs": [
    {
     "name": "stdout",
     "output_type": "stream",
     "text": [
      "80.00 ºC (grados Celsius) son 176.00 ºF (grados Fahrenheit).\n"
     ]
    }
   ],
   "source": [
    "# Pide todos los datos. Ejemplo: 212, ºF, ºC\n",
    "tempConvPyNB()"
   ]
  },
  {
   "cell_type": "code",
   "execution_count": null,
   "id": "3261b399",
   "metadata": {},
   "outputs": [
    {
     "name": "stdout",
     "output_type": "stream",
     "text": [
      "212.00 ºF (grados Fahrenheit) son 100.00 ºC (grados Celsius).\n",
      "212.00 ºF (grados Fahrenheit) son 373.15 K (Kelvins).\n",
      "212.00 ºF (grados Fahrenheit) son 671.67 R (Rankines).\n",
      "212.00 ºF (grados Fahrenheit) son 80.00 ºR (grados Réaumur).\n"
     ]
    }
   ],
   "source": [
    "\n",
    "# Pide la escala de origen y la de destino, ENTER para convertir a todas. Ejemplo: ºF <Enter>\n",
    "tempConvPyNB(212)"
   ]
  },
  {
   "cell_type": "code",
   "execution_count": 12,
   "id": "0705b18a",
   "metadata": {},
   "outputs": [
    {
     "name": "stdout",
     "output_type": "stream",
     "text": [
      "559.67 ºR (grados Réaumur) son 699.59 ºC (grados Celsius).\n",
      "559.67 ºR (grados Réaumur) son 1291.26 ºF (grados Fahrenheit).\n",
      "559.67 ºR (grados Réaumur) son 972.74 K (Kelvins).\n",
      "559.67 ºR (grados Réaumur) son 1750.93 R (Rankines).\n",
      "559.67 R (Rankines) son 30.22 ºR (grados Réaumur).\n"
     ]
    }
   ],
   "source": [
    "\n",
    "# Pide la escala a la que convertir, ENTER para convertir a las demás\n",
    "tempConvPyNB(559.67, 'ºR', '', True)   # Ejemplo:\n",
    "tempConvPyNB(559.67, 'R', 'ºR', True)"
   ]
  },
  {
   "cell_type": "code",
   "execution_count": null,
   "id": "b11096e6",
   "metadata": {},
   "outputs": [
    {
     "name": "stdout",
     "output_type": "stream",
     "text": [
      "559.67R = 100.00ºF\n",
      "100ºF = 37.78ºC\n",
      "37.78ºC = 30.22ºR\n",
      "30.22ºR = 310.92K\n",
      "310.92K = 559.66R\n",
      "50.00 K (Kelvins) son 90.00 R (Rankines).\n",
      "50.00 ºC (grados Celsius) son 122.00 ºF (grados Fahrenheit).\n"
     ]
    }
   ],
   "source": [
    "# Llamando a esta función, tenemos la misma respuesta que\n",
    "# el script `n1e2_tempConverter.py` que está en el repositorio.\n",
    "verbose = False\n",
    "tempConvPyNB(559.67, \"R\", \"Fahrenheit\", verbose)\n",
    "tempConvPyNB(100, \"ºF\", \"Celsius\", verbose)\n",
    "tempConvPyNB(37.78, \"ºC\", \"reaumur\", verbose)\n",
    "tempConvPyNB(30.22, 'ºR', 'K', verbose)\n",
    "tempConvPyNB(310.92, 'K', 'R', verbose)\n",
    "\n",
    "verbose = True\n",
    "tempConvPyNB(50, \"K\", \"R\", verbose)\n",
    "tempConvPyNB(50, \"ºC\", \"ºF\", verbose)\n"
   ]
  },
  {
   "cell_type": "markdown",
   "id": "c15018bf",
   "metadata": {},
   "source": [
    "### NOTE\n",
    "> Este código está modificado del original que está en el repositorio (`n1e2_tempConverter.py`) que funciona con todas las opciones posibles (usar `n1e2_tempConverter.py -h` para verlas) en el terminal, para que se pueda ejecutar en este entorno JPyNB."
   ]
  },
  {
   "cell_type": "markdown",
   "id": "4338e2b3",
   "metadata": {},
   "source": [
    "### Exercici 3\n",
    "\n",
    "#### Comptador de paraules d'un text.\n",
    "\n",
    "Escriu una funció que donat un text, mostri les vegades que apareix cada paraula."
   ]
  },
  {
   "cell_type": "code",
   "execution_count": 24,
   "id": "186c9b05",
   "metadata": {},
   "outputs": [],
   "source": [
    "import os\n",
    "import re\n",
    "\n",
    "skipOneCount = False\n",
    "\n",
    "def word_count(data):\n",
    "    response = []\n",
    "    global skipOneCount\n",
    "    if os.path.isfile(data):\n",
    "        with (open(data, 'r') as fileToRead):\n",
    "            strToCount = fileToRead.read()\n",
    "    else:\n",
    "        strToCount = data\n",
    "\n",
    "    # Elimina caracteres no alfabéticos, y también los números sueltos\n",
    "    words = re.sub(\"(\\b\\d+\\b)|[^a-zA-Z0-9ºªÁÄÃÂÀÉËÊÈÍÏÎÓÖÕÔÒÚÜÛÙÑáäãâàéëêèíïîóöõôòúüûùñ @]\", ' ', strToCount.lower()).split()\n",
    "    distinctWords = set(words)\n",
    "\n",
    "    for w in distinctWords:\n",
    "        wc = words.count(w)\n",
    "\n",
    "        if wc == 1 and skipOneCount:\n",
    "            continue\n",
    "        response.append([w, wc])\n",
    "    return response\n",
    "\n",
    "def show_word_count(words_list: list=[]):\n",
    "    response = ''\n",
    "    template = \"{} - aparece {} {}\\n\"\n",
    "\n",
    "    for w in words_list:\n",
    "        word, wc = w\n",
    "        response += template.format(word, wc, \"vez\" if wc == 1 else \"veces\")\n",
    "\n",
    "    return response\n"
   ]
  },
  {
   "cell_type": "code",
   "execution_count": 25,
   "id": "13e049fe",
   "metadata": {},
   "outputs": [
    {
     "name": "stdout",
     "output_type": "stream",
     "text": [
      "[['si', 1], ['o', 1], ['sale', 1], ['más', 2], ['vez', 1], ['una', 3], ['palabra', 1], ['de', 2], ['muestra', 1]]\n",
      "\n",
      "No mostrar las palabras que solo aparecen una vez.\n",
      "\n",
      "[['más', 2], ['una', 3], ['de', 2]]\n"
     ]
    }
   ],
   "source": [
    "skipOneCount = None\n",
    "\n",
    "print(word_count(\"Muestra si una palabra (o más de una) sale Más de una vez\"))\n",
    "\n",
    "skipOneCount = True\n",
    "\n",
    "print(\"\\nNo mostrar las palabras que solo aparecen una vez.\\n\")\n",
    "\n",
    "print(word_count(\"Muestra si una palabra (o más de una) sale más de una vez\"))"
   ]
  },
  {
   "cell_type": "code",
   "execution_count": null,
   "id": "9db9c715",
   "metadata": {},
   "outputs": [
    {
     "name": "stdout",
     "output_type": "stream",
     "text": [
      "Ignorando las que solo salen una vez:\n"
     ]
    },
    {
     "data": {
      "text/plain": [
       "[['a', 3],\n",
       " ['la', 8],\n",
       " ['farenheit', 2],\n",
       " ['escala', 3],\n",
       " ['basada', 2],\n",
       " ['ebullición', 2],\n",
       " ['sitúa', 2],\n",
       " ['el', 5],\n",
       " ['como', 3],\n",
       " ['0', 4],\n",
       " ['kelvin', 2],\n",
       " ['que', 2],\n",
       " ['con', 2],\n",
       " ['y', 3],\n",
       " ['absoluto', 2],\n",
       " ['punto', 3],\n",
       " ['uk', 2],\n",
       " ['se', 3],\n",
       " ['de', 5],\n",
       " ['en', 12],\n",
       " ['celsius', 3],\n",
       " ['agua', 2],\n",
       " ['del', 5]]"
      ]
     },
     "execution_count": 5,
     "metadata": {},
     "output_type": "execute_result"
    }
   ],
   "source": [
    "# Aprovechando un texto anterior...\n",
    "str = '''\\\n",
    "En este programa se pueden utilizar las siquientes escalas:\n",
    "\n",
    "  ºC  Celsius   Escala originalmente con el 0 en la ebullición del agua y el 100\n",
    "                en la solidificación, que luego se invirtió y quedó como la\n",
    "                conocemos hoy en día.\n",
    "   K  Kelvin    Basada en la Celsius, sitúa sin embargo el punto 0 en el llamado\n",
    "                Cero Absoluto, a -273,15ºC. Es la unidad de temperatura del\n",
    "                Sistema Internacional de Medidas, con la Celsius como accesoria.\n",
    "  ºF  Farenheit Utilizada casi que exclusivamente en los EUA, Canadá o UK.\n",
    "   R  Rankine   Basada en la escala Farenheit, sitúa, como la Kelvin, su punto 0\n",
    "  Ra            en el 0 absoluto, a -459,67ºF. Aún se emplea para hacer estudios\n",
    "                termodinámicos en UK (creada en Escocia) y Estados Unidos.\n",
    "  ºR  Réaumur   Escala del s. XVII prácticamente en desuso, va de 0ºR a 80ºR\n",
    " ºRé            también del punto de fusión del agua al de ebullición.\n",
    " '''\n",
    "\n",
    "# word_count(str)\n",
    "print(\"Ignorando las que solo salen una vez:\")\n",
    "skipOneCount = True\n",
    "word_count(str)\n"
   ]
  },
  {
   "cell_type": "code",
   "execution_count": null,
   "id": "c1e9a832",
   "metadata": {},
   "outputs": [
    {
     "name": "stdout",
     "output_type": "stream",
     "text": [
      "perdone - aparece 2 veces\n",
      "a - aparece 5 veces\n",
      "pã - aparece 2 veces\n",
      "tãº - aparece 8 veces\n",
      "dios - aparece 2 veces\n",
      "quieres - aparece 6 veces\n",
      "la - aparece 3 veces\n",
      "alba - aparece 4 veces\n",
      "carnes - aparece 2 veces\n",
      "cuando - aparece 2 veces\n",
      "el - aparece 4 veces\n",
      "nã - aparece 3 veces\n",
      "ni - aparece 2 veces\n",
      "casta - aparece 3 veces\n",
      "que - aparece 6 veces\n",
      "ndeme - aparece 3 veces\n",
      "lo - aparece 2 veces\n",
      "me - aparece 10 veces\n",
      "con - aparece 4 veces\n",
      "sobre - aparece 2 veces\n",
      "y - aparece 5 veces\n",
      "vea - aparece 2 veces\n",
      "lã - aparece 2 veces\n",
      "blanca - aparece 3 veces\n",
      "al - aparece 2 veces\n",
      "pretã - aparece 3 veces\n",
      "por - aparece 2 veces\n",
      "de - aparece 8 veces\n",
      "se - aparece 2 veces\n",
      "todas - aparece 2 veces\n",
      "en - aparece 4 veces\n",
      "los - aparece 4 veces\n",
      "te - aparece 3 veces\n",
      "pretendes - aparece 3 veces\n",
      "las - aparece 7 veces\n",
      "\n"
     ]
    }
   ],
   "source": [
    "skipOneCount = True\n",
    "sortByFreq   = True\n",
    "print(show_word_count(word_count('tu_me_quieres_blanca.txt')))"
   ]
  },
  {
   "cell_type": "markdown",
   "id": "8340610c",
   "metadata": {},
   "source": [
    "### Exercici 4\n",
    "> Diccionari invers.\n",
    "\n",
    "Resulta que el client té una enquesta molt antiga que s'emmagatzema en un diccionari i els resultats els necessita al revés, és a dir, intercanviats les claus i els valors. Els valors i claus en el diccionari original són únics; si aquest no és el cas, la funció hauria d'imprimir un missatge d'advertiment."
   ]
  },
  {
   "cell_type": "code",
   "execution_count": null,
   "id": "10c80776",
   "metadata": {},
   "outputs": [
    {
     "name": "stdout",
     "output_type": "stream",
     "text": [
      "Ejemplo 0: Empty dictionary!\n",
      "\n",
      "Ejemplo 1:\n",
      "{'fruta': 'banana', 'verdura': 'tomate', 'legumbre': 'garbanzo'}\n",
      "Inverted: \n",
      "{'banana': 'fruta', 'tomate': 'verdura', 'garbanzo': 'legumbre'}\n",
      "\n",
      "Ejemplo 2:\n",
      "{'fruta': 'tomate', 'verdura': 'tomate', 'legumbre': 'garbanzo'}\n",
      "Inverted:\n",
      "Error: multiple keys for same value\n"
     ]
    }
   ],
   "source": [
    "def invertDict(dicc: dict={}):\n",
    "    if len(dicc) == 0:\n",
    "        return (\"Empty dictionary!\")\n",
    "\n",
    "    if len(set(dicc.values())) != len(dicc):\n",
    "        return (\"Error: multiple keys for same value\")\n",
    "\n",
    "    invDicc = {}\n",
    "\n",
    "    for (k, v) in dicc.items():\n",
    "        invDicc[v] = k\n",
    "\n",
    "    return invDicc\n",
    "\n",
    "print(\"Ejemplo 0:\", invertDict({}))\n",
    "\n",
    "dicc = {\"fruta\": \"banana\", \"verdura\": \"tomate\", \"legumbre\": \"garbanzo\"}\n",
    "\n",
    "print(\"\\nEjemplo 1:\", dicc, \"Inverted: \", invertDict(dicc), sep=\"\\n\")\n",
    "\n",
    "dicc = {\"fruta\": \"tomate\", \"verdura\": \"tomate\", \"legumbre\": \"garbanzo\"}\n",
    "\n",
    "print(\"\\nEjemplo 2:\", dicc, \"Inverted:\", invertDict(dicc), sep=\"\\n\")"
   ]
  },
  {
   "cell_type": "markdown",
   "id": "ec187509",
   "metadata": {},
   "source": [
    "## Nivell 2\n",
    "### Exercici 1\n",
    "> Diccionari invers amb duplicats\n",
    "\n",
    "Continuant amb l'exercici 4 del nivell 1: al client es va oblidar de comentar un detall i resulta que els valors en el diccionari original poden duplicar-se i més, per la qual cosa les claus intercanviades poden tenir duplicats. En aquest cas, en l'exercici anterior imprimies un missatge d'advertiment, ara, els valors del diccionari resultant hauran d'emmagatzemar-se com una llista. Tingues en compte que si és un valor únic no ha de ser una llista."
   ]
  },
  {
   "cell_type": "code",
   "execution_count": null,
   "id": "b84e082a",
   "metadata": {},
   "outputs": [
    {
     "name": "stdout",
     "output_type": "stream",
     "text": [
      "Ejemplo 1:\n",
      "{'fruta': 'banana', 'verdura': 'tomate', 'legumbre': 'garbanzo'}\n",
      "Inverted: \n",
      "{'banana': 'fruta', 'tomate': 'verdura', 'garbanzo': 'legumbre'}\n",
      "\n",
      "Ejemplo 2 - No permite duplicados:\n",
      "{'fruta': 'tomate', 'verdura': 'tomate', 'legumbre': 'garbanzo', 'hojas': 'lechuga'}\n",
      "Inverted:\n",
      "Error: multiple keys for same value 'tomate'\n",
      "\n",
      "Ejemplo 2 - permite duplicados:   \n",
      "{'fruta': 'tomate', 'verdura': 'tomate', 'legumbre': 'garbanzo', 'hojas': 'lechuga'}\n",
      "Inverted:\n",
      "{'tomate': ['fruta', 'verdura'], 'garbanzo': 'legumbre', 'lechuga': 'hojas'}\n"
     ]
    }
   ],
   "source": [
    "def invertDict(dicc: dict={}, allow_duplicates: bool=False):\n",
    "    if len(dicc) == 0:\n",
    "        if len(dicc) == 0:\n",
    "            return \"Empty dictionary!\"\n",
    "        if len(set(dicc.values())) != len(dicc):\n",
    "            return \"Error: multiple keys for some value\"\n",
    "\n",
    "    invDicc = {}\n",
    "\n",
    "    for (k, v) in dicc.items():\n",
    "        # print(f\"k: {k=} , v: {v=}\")\n",
    "        new_value = k\n",
    "\n",
    "        if v in invDicc.keys():\n",
    "            # print(\"Más de un valor para \", v, \"¿Permitir?\", allow_duplicates)\n",
    "            if not allow_duplicates:\n",
    "                return f\"Error: multiple keys for same value '{v}'\"\n",
    "\n",
    "            # Esto funciona en el script, pero aquí no. Raro.\n",
    "            new_value = [invDicc[v], k] if type(invDicc[v]) is str \\\n",
    "                                        else invDicc[v].append(k)\n",
    "            # print(f\"Added {new_value=}\")\n",
    "        invDicc[v] = new_value\n",
    "\n",
    "    return invDicc\n",
    "\n",
    "dicc = {\"fruta\": \"banana\", \"verdura\": \"tomate\", \"legumbre\": \"garbanzo\"}\n",
    "\n",
    "print(\"Ejemplo 1:\", dicc, \"Inverted: \", invertDict(dicc), sep=\"\\n\")\n",
    "\n",
    "dicc = {\"fruta\": \"tomate\", \"verdura\": \"tomate\", \"legumbre\": \"garbanzo\", \"hojas\": \"lechuga\"}\n",
    "\n",
    "print(\"\\nEjemplo 2 - No permite duplicados:\", dicc, \"Inverted:\", invertDict(dicc), sep=\"\\n\")\n",
    "print(\"\\nEjemplo 2 - permite duplicados:   \", dicc, \"Inverted:\", invertDict(dicc, True), sep=\"\\n\")"
   ]
  },
  {
   "cell_type": "code",
   "execution_count": 19,
   "id": "95a699a8",
   "metadata": {},
   "outputs": [
    {
     "name": "stdout",
     "output_type": "stream",
     "text": [
      "Error: multiple keys for same value 'banana'\n"
     ]
    }
   ],
   "source": [
    "# Sin el parámetro 2, o con el parámetro a `False`, funciona igual que n1e4\n",
    "print(invertDict(dicc={'x': 'apple', 'y': 'banana', 'z': 'banana'}, allow_duplicates=False))"
   ]
  },
  {
   "cell_type": "code",
   "execution_count": 20,
   "id": "9eba45cf",
   "metadata": {},
   "outputs": [
    {
     "name": "stdout",
     "output_type": "stream",
     "text": [
      "{'apple': 'x', 'banana': ['y', 'z']}\n"
     ]
    }
   ],
   "source": [
    "# Con el parámetro 2 a `True`, hace lo que pide el ej. N2E1\n",
    "print(invertDict(dicc={'x': 'apple', 'y': 'banana', 'z': 'banana'}, allow_duplicates=True))"
   ]
  },
  {
   "cell_type": "markdown",
   "id": "7206f655",
   "metadata": {},
   "source": [
    "### Exercici 2\n",
    "> Conversió de tipus de dades\n",
    "\n",
    "El client rep una llista de dades i necessita generar dues llistes, la primera on estaran tots els elements que es van poder convertir en flotants i l'altra on estan els elements que no es van poder convertir. Exemple de la llista que rep el client:\n",
    "\n",
    "    [ '1.3', 'one' , '1e10' , 'seven', '3-1/2', ('2',1,1.4,'not-a-number'), [1,2,'3','3.4']]]"
   ]
  },
  {
   "cell_type": "code",
   "execution_count": 21,
   "id": "82e42024",
   "metadata": {},
   "outputs": [
    {
     "name": "stdout",
     "output_type": "stream",
     "text": [
      "Numeric values: [1.3, 10000000000.0, 2, 1, 1.4, 1, 2, 3, 3.4]\n",
      "Non-Numerics ['one', 'seven', '3-1/2', 'not-a-number']\n"
     ]
    }
   ],
   "source": [
    "inputData = [ '1.3', 'one' , '1e10' , 'seven', '3-1/2', ('2',1,1.4,'not-a-number'), [1,2,'3','3.4']]\n",
    "\n",
    "def convertibles(values: list):\n",
    "    '''\n",
    "    Separa los valores de una lista entre \"numéricos\" y no numéricos, convirtiendo\n",
    "    los valores numéricos a float o int, según sean.\n",
    "    '''\n",
    "    numerics  = []\n",
    "    no_nums   = []\n",
    "    flattened = []\n",
    "\n",
    "    for i in values:\n",
    "        # print(i, isinstance(i, (int, str, float)))\n",
    "        flattened.append(i) if isinstance(i, (int, str, float)) else flattened.extend(i)\n",
    "\n",
    "    for i in flattened:\n",
    "        try:\n",
    "            num = float(i)\n",
    "            numerics.append(\n",
    "                i if isinstance(i, (int, float))\n",
    "                    else float(i) if 'e' in i or '.' in i\n",
    "                    else int(i)\n",
    "            )\n",
    "        except ValueError:\n",
    "            no_nums.append(i)\n",
    "\n",
    "    return {\"Numeric values:\": numerics, \"Non-Numerics\": no_nums}\n",
    "\n",
    "# flatten_list(inputData)\n",
    "separados = convertibles(inputData)\n",
    "for x in separados:\n",
    "    print(x, separados[x])"
   ]
  },
  {
   "cell_type": "markdown",
   "id": "31fcda3b",
   "metadata": {},
   "source": [
    "## Nivell 3\n",
    "### Exercici 1\n",
    "> Comptador i endreçador de paraules d'un text.\n",
    "\n",
    "El client va quedar content amb el comptador de paraules, però ara vol llegir arxius TXT i que calculi la freqüència de cada paraula ordenades dins de les entrades habituals del diccionari segons la lletra amb la qual comencen, és a dir, les claus han d'anar de la A a la Z i dins de la A hem d'anar de la A la Z."
   ]
  },
  {
   "cell_type": "code",
   "execution_count": 29,
   "id": "dc0720ac",
   "metadata": {},
   "outputs": [
    {
     "data": {
      "text/plain": [
       "{'a': {'a': 5,\n",
       "  'agua': 1,\n",
       "  'al': 2,\n",
       "  'alba': 4,\n",
       "  'alcobas': 1,\n",
       "  'alimenta': 1,\n",
       "  'alma': 1,\n",
       "  'amarga': 1,\n",
       "  'as': 1,\n",
       "  'azucena': 1},\n",
       " 'b': {'baco': 1,\n",
       "  'banquete': 1,\n",
       "  'bebe': 1,\n",
       "  'blanca': 3,\n",
       "  'boca': 1,\n",
       "  'bosques': 1,\n",
       "  'buen': 1},\n",
       " 'c': {'cabaã': 1,\n",
       "  'car': 1,\n",
       "  'carnes': 2,\n",
       "  'casta': 3,\n",
       "  'cerrada': 1,\n",
       "  'con': 4,\n",
       "  'conservas': 1,\n",
       "  'copas': 1,\n",
       "  'corola': 1,\n",
       "  'corriste': 1,\n",
       "  'cuando': 2,\n",
       "  'cubierto': 1,\n",
       "  'cuerpo': 1,\n",
       "  'cuã': 1},\n",
       " 'd': {'de': 8, 'dejaste': 1, 'del': 1, 'diga': 1, 'dios': 2, 'duerme': 1},\n",
       " 'e': {'el': 4,\n",
       "  'ellas': 1,\n",
       "  'en': 4,\n",
       "  'engaã': 1,\n",
       "  'enredada': 1,\n",
       "  'entonces': 1,\n",
       "  'escarcha': 1,\n",
       "  'espumas': 1,\n",
       "  'esqueleto': 1,\n",
       "  'estrago': 1},\n",
       " 'f': {'festejando': 1, 'filtrado': 1, 'frutos': 1},\n",
       " 'g': {},\n",
       " 'h': {'habla': 1,\n",
       "  'hacia': 1,\n",
       "  'haya': 1,\n",
       "  'hayas': 1,\n",
       "  'hermana': 1,\n",
       "  'hombre': 1,\n",
       "  'hubiste': 1,\n",
       "  'huye': 1},\n",
       " 'i': {'intacto': 1},\n",
       " 'j': {'jardines': 1, 'jaros': 1},\n",
       " 'k': {},\n",
       " 'l': {'la': 3,\n",
       "  'labios': 1,\n",
       "  'las': 7,\n",
       "  'les': 1,\n",
       "  'lo': 2,\n",
       "  'los': 4,\n",
       "  'luna': 1,\n",
       "  'lã': 2},\n",
       " 'm': {'mano': 1,\n",
       "  'manos': 1,\n",
       "  'margarita': 1,\n",
       "  'me': 10,\n",
       "  'mi': 1,\n",
       "  'mieles': 1,\n",
       "  'milagros': 1,\n",
       "  'mojada': 1,\n",
       "  'montaã': 1,\n",
       "  'morados': 1,\n",
       "  'mpanos': 1,\n",
       "  'mpiate': 1},\n",
       " 'n': {'ndeme': 3, 'negros': 1, 'ni': 2, 'no': 1, 'nã': 3},\n",
       " 'o': {'o': 1},\n",
       " 'p': {'perdone': 2,\n",
       "  'perfume': 1,\n",
       "  'por': 2,\n",
       "  'pretendes': 3,\n",
       "  'pretã': 3,\n",
       "  'puesto': 1,\n",
       "  'pã': 2},\n",
       " 'q': {'que': 6, 'quedã': 1, 'quieres': 6},\n",
       " 'r': {'rayo': 1, 'raã': 1, 'renueva': 1, 'rocas': 1, 'rojo': 1},\n",
       " 's': {'salitre': 1, 'se': 2, 'sea': 1, 'sean': 1, 'sobre': 2, 'sã': 1},\n",
       " 't': {'te': 3,\n",
       "  'tejidos': 1,\n",
       "  'tenue': 1,\n",
       "  'tierra': 1,\n",
       "  'toca': 1,\n",
       "  'todas': 2,\n",
       "  'todavã': 1,\n",
       "  'tornadas': 1,\n",
       "  'tãº': 8},\n",
       " 'u': {'un': 1, 'una': 1},\n",
       " 'v': {'vate': 1, 'vea': 2, 'vestido': 1, 'vete': 1, 'vive': 1},\n",
       " 'w': {},\n",
       " 'x': {},\n",
       " 'y': {'y': 5},\n",
       " 'z': {'z': 1}}"
      ]
     },
     "execution_count": 29,
     "metadata": {},
     "output_type": "execute_result"
    }
   ],
   "source": [
    "def classify_word_count(text):\n",
    "    palabras = word_count(text)\n",
    "    list.sort(palabras)\n",
    "\n",
    "    letras   = [chr(x) for x in range(ord('a'), ord('z')+1)]\n",
    "    lista    = {}\n",
    "\n",
    "    for char in letras:\n",
    "        lista[char] = {}\n",
    "\n",
    "    for (palabra, contador) in palabras:\n",
    "        letra = palabra[0].lower()\n",
    "        # Ignorar \"palabras\" que no empiezan por una letra\n",
    "        if letra not in letras:\n",
    "            continue\n",
    "        lista[letra].update({palabra: contador})\n",
    "        # print({letra: (palabra, contador)})\n",
    "\n",
    "    return lista\n",
    "\n",
    "skipOneCount = False\n",
    "# print(classify_word_count('tu_me_quieres_blanca.txt'))\n",
    "classify_word_count('tu_me_quieres_blanca.txt')\n",
    "\n"
   ]
  },
  {
   "cell_type": "code",
   "execution_count": 30,
   "id": "c8cf7235",
   "metadata": {},
   "outputs": [
    {
     "name": "stdout",
     "output_type": "stream",
     "text": [
      "\n",
      "Ahora, ignorando las palabras que solo aparecen una vez en el texto:\n"
     ]
    },
    {
     "data": {
      "text/plain": [
       "{'a': {'a': 5, 'al': 2, 'alba': 4},\n",
       " 'b': {'blanca': 3},\n",
       " 'c': {'carnes': 2, 'casta': 3, 'con': 4, 'cuando': 2},\n",
       " 'd': {'de': 8, 'dios': 2},\n",
       " 'e': {'el': 4, 'en': 4},\n",
       " 'f': {},\n",
       " 'g': {},\n",
       " 'h': {},\n",
       " 'i': {},\n",
       " 'j': {},\n",
       " 'k': {},\n",
       " 'l': {'la': 3, 'las': 7, 'lo': 2, 'los': 4, 'lã': 2},\n",
       " 'm': {'me': 10},\n",
       " 'n': {'ndeme': 3, 'ni': 2, 'nã': 3},\n",
       " 'o': {},\n",
       " 'p': {'perdone': 2, 'por': 2, 'pretendes': 3, 'pretã': 3, 'pã': 2},\n",
       " 'q': {'que': 6, 'quieres': 6},\n",
       " 'r': {},\n",
       " 's': {'se': 2, 'sobre': 2},\n",
       " 't': {'te': 3, 'todas': 2, 'tãº': 8},\n",
       " 'u': {},\n",
       " 'v': {'vea': 2},\n",
       " 'w': {},\n",
       " 'x': {},\n",
       " 'y': {'y': 5},\n",
       " 'z': {}}"
      ]
     },
     "execution_count": 30,
     "metadata": {},
     "output_type": "execute_result"
    }
   ],
   "source": [
    "print(\"\\nAhora, ignorando las palabras que solo aparecen una vez en el texto:\")\n",
    "\n",
    "skipOneCount = True\n",
    "classify_word_count('tu_me_quieres_blanca.txt')"
   ]
  },
  {
   "cell_type": "code",
   "execution_count": 31,
   "id": "aa94628f",
   "metadata": {},
   "outputs": [
    {
     "data": {
      "text/plain": [
       "{'a': {'a': 5,\n",
       "  'al': 8,\n",
       "  'altura': 3,\n",
       "  'anidadas': 2,\n",
       "  'aparecen': 3,\n",
       "  'argumento': 3},\n",
       " 'b': {},\n",
       " 'c': {'caso': 2,\n",
       "  'claves': 5,\n",
       "  'comandos': 4,\n",
       "  'como': 5,\n",
       "  'con': 6,\n",
       "  'contiene': 2},\n",
       " 'd': {'dado': 2,\n",
       "  'de': 36,\n",
       "  'del': 4,\n",
       "  'destino': 3,\n",
       "  'devuelve': 2,\n",
       "  'diccionario': 8,\n",
       "  'diferentes': 2,\n",
       "  'doc': 4},\n",
       " 'e': {'el': 23,\n",
       "  'en': 14,\n",
       "  'entrada': 5,\n",
       "  'es': 6,\n",
       "  'escala': 6,\n",
       "  'escalas': 2,\n",
       "  'ese': 2,\n",
       "  'este': 6,\n",
       "  'estã': 2},\n",
       " 'f': {'fichero': 3, 'funciã': 2},\n",
       " 'g': {'gestiona': 3},\n",
       " 'h': {},\n",
       " 'i': {'i': 2, 'imc': 7, 'inicial': 2, 'invierte': 2},\n",
       " 'j': {},\n",
       " 'k': {},\n",
       " 'l': {'la': 20,\n",
       "  'las': 10,\n",
       "  'le': 3,\n",
       "  'letra': 3,\n",
       "  'lista': 2,\n",
       "  'listas': 3,\n",
       "  'los': 4,\n",
       "  'lã': 4},\n",
       " 'm': {'md': 3, 'mensaje': 3, 'metro': 2, 'mismo': 3, 'mãºltiples': 2},\n",
       " 'n': {'n': 6,\n",
       "  'n1e1': 3,\n",
       "  'n1e2': 4,\n",
       "  'n1e3': 3,\n",
       "  'n1e4': 2,\n",
       "  'ndice': 2,\n",
       "  'nea': 4,\n",
       "  'nivel': 4,\n",
       "  'no': 5,\n",
       "  'nombre': 3,\n",
       "  'numã': 3,\n",
       "  'nãºmeros': 3},\n",
       " 'o': {'o': 12, 'omitir': 2, 'once': 2, 'opcionalmente': 2, 'origen': 3},\n",
       " 'p': {'palabras': 7,\n",
       "  'para': 2,\n",
       "  'parã': 3,\n",
       "  'pasa': 2,\n",
       "  'peso': 3,\n",
       "  'por': 4,\n",
       "  'proporciona': 2,\n",
       "  'proporcionan': 2,\n",
       "  'puede': 3,\n",
       "  'py': 11,\n",
       "  'python': 2},\n",
       " 'q': {'que': 9},\n",
       " 'r': {'rdict': 3, 'ricos': 3},\n",
       " 's': {'s': 3,\n",
       "  'script': 6,\n",
       "  'scripts': 2,\n",
       "  'se': 9,\n",
       "  'si': 10,\n",
       "  'skip': 2,\n",
       "  'sola': 2,\n",
       "  'solicita': 4,\n",
       "  'solo': 3,\n",
       "  'sprint': 2},\n",
       " 't': {'tempconverter': 2,\n",
       "  'temperatura': 3,\n",
       "  'temperaturas': 2,\n",
       "  'texto': 9,\n",
       "  'tiene': 2,\n",
       "  'todas': 2},\n",
       " 'u': {'un': 13, 'una': 8, 'usuario': 6, 'utiliza': 2},\n",
       " 'v': {'vacã': 3, 'valor': 5, 'valores': 8, 'ver': 2, 'vez': 3},\n",
       " 'w': {'word': 2, 'wordcount': 3, 'words': 2},\n",
       " 'x': {},\n",
       " 'y': {'y': 16},\n",
       " 'z': {}}"
      ]
     },
     "execution_count": 31,
     "metadata": {},
     "output_type": "execute_result"
    }
   ],
   "source": [
    "# Procesar otro fichero del repositorio\n",
    "classify_word_count('README.md')"
   ]
  }
 ],
 "metadata": {
  "kernelspec": {
   "display_name": "Python 3",
   "language": "python",
   "name": "python3"
  },
  "language_info": {
   "codemirror_mode": {
    "name": "ipython",
    "version": 3
   },
   "file_extension": ".py",
   "mimetype": "text/x-python",
   "name": "python",
   "nbconvert_exporter": "python",
   "pygments_lexer": "ipython3",
   "version": "3.11.9"
  }
 },
 "nbformat": 4,
 "nbformat_minor": 5
}
