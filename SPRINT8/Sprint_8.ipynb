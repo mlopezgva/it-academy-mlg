{
 "cells": [
  {
   "cell_type": "markdown",
   "id": "46db96bc",
   "metadata": {},
   "source": [
    "# SPRINT 8 - Visualización de datos con Python"
   ]
  },
  {
   "cell_type": "code",
   "execution_count": 3,
   "id": "defffe27",
   "metadata": {},
   "outputs": [],
   "source": [
    "# Paso 1: conectar con la base de datos existente\n",
    "import mysql.connector\n",
    "import pandas as pd\n",
    "\n",
    "def db_connect():\n",
    "    try:\n",
    "        if 'db' not in globals():\n",
    "            global db\n",
    "            db = mysql.connector.connect(host='localhost', database=\"mlg_sprint4\", user=\"root\", password=\"root\")\n",
    "            print(\"Conectado!\")\n",
    "\n",
    "    except Exception as e:\n",
    "        exit(\"Error:\", e)\n",
    "\n",
    "# Aquí configurando cosas de genéricas de Pandas\n",
    "pd.set_option(\"display.max.columns\", None)\n",
    "pd.options.mode.copy_on_write = True"
   ]
  },
  {
   "cell_type": "markdown",
   "id": "ab38fe86",
   "metadata": {},
   "source": [
    "## Tarea S08.01\n",
    "\n",
    "### Nivel 1\n",
    "Realitza la connexió en Python amb el MySQL Workbench per a carregar tota la informació que tens en les taules.\n",
    "\n",
    "<div class=\"alert alert-block alert-warning\">\n",
    "\n",
    "**NOTA:**  \n",
    "Esta descripción es un tanto confusa: Python **NO** se conecta con *MySQL Workbench*; se puede conectar con el **servidor** de base de datos (RDBMS: _Relational DataBase Management Server_) MySQL (o MariaDB, o PostgreSQL, o...). *MySQL Workbench* es un **cliente** (que sí, puede gestionar el servidor) que se conecta al RDBMS, igual que lo hará Python.  \n",
    "Puede que parezca \"más fácil de entender\", pero sigue siendo incorrecto.\n",
    "\n",
    "Si en una entrevista técnica el aspirante dijese eso, posiblemente perdería puntos.\n",
    "</div>\n",
    "\n",
    "Realitzaràs una visualització per a cada exercici. Comenta el que et crida l'atenció de graficar aquesta variable, justifica l'elecció del gràfic i interpreta els resultats en funció de les teves dades.\n",
    "\n",
    "####"
   ]
  },
  {
   "cell_type": "markdown",
   "id": "2f9bc2e1",
   "metadata": {},
   "source": [
    "#### T8.01 N1N1 Visualización de una variable numérica\n",
    "\n",
    "He elegido representar las operaciones declinadas y completadas.\n",
    "\n",
    "Para ello, hay que agrupar y contar las operaciones teniendo en cuenta si fueron completadas o no:\n",
    "º"
   ]
  },
  {
   "cell_type": "code",
   "execution_count": 4,
   "id": "8eb8a882",
   "metadata": {},
   "outputs": [
    {
     "name": "stdout",
     "output_type": "stream",
     "text": [
      "Conectado!\n"
     ]
    },
    {
     "name": "stderr",
     "output_type": "stream",
     "text": [
      "C:\\Users\\formacio\\AppData\\Local\\Temp\\ipykernel_4136\\3459745482.py:9: UserWarning: pandas only supports SQLAlchemy connectable (engine/connection) or database string URI or sqlite3 DBAPI2 connection. Other DBAPI2 objects are not tested. Please consider using SQLAlchemy.\n",
      "  df = pd.read_sql(query, con=db, columns=[\"declined\"])\n"
     ]
    },
    {
     "data": {
      "image/png": "[encoded data removed]",
      "text/plain": [
       "<Figure size 640x480 with 1 Axes>"
      ]
     },
     "metadata": {},
     "output_type": "display_data"
    }
   ],
   "source": [
    "db_connect()\n",
    "\n",
    "query = '''\n",
    "SELECT SUM(declined)   AS declined\n",
    "     , SUM(declined=0) AS successful\n",
    "  FROM `transaction`\n",
    "'''\n",
    "if db and db.is_connected:\n",
    "    df = pd.read_sql(query, con=db, columns=[\"declined\"])\n",
    "    df.plot.bar()"
   ]
  },
  {
   "cell_type": "markdown",
   "id": "75fc2991",
   "metadata": {},
   "source": [
    "Aunque... supongo que si se trata de usar pandas, la idea es hacer la selección y agregación usando la biblioteca y no SQL, ya que la \"_gracia_\" está en importar datos de Excel, / hojas de cálculo, tablas HTML, CSV... donde no hay cómo hacer un GROUP BY o un MAX().\n",
    "(Esto no se dice tampoco en el enunciado... Solo \"conectar a la DB\"; si conecto a una DB para hacer un select, a algunos la manipulación se nos va directamente a SQL)."
   ]
  },
  {
   "cell_type": "code",
   "execution_count": 5,
   "id": "45b2c6a8",
   "metadata": {},
   "outputs": [
    {
     "name": "stderr",
     "output_type": "stream",
     "text": [
      "C:\\Users\\formacio\\AppData\\Local\\Temp\\ipykernel_4136\\4020352353.py:6: UserWarning: pandas only supports SQLAlchemy connectable (engine/connection) or database string URI or sqlite3 DBAPI2 connection. Other DBAPI2 objects are not tested. Please consider using SQLAlchemy.\n",
      "  tr_df   = pd.read_sql(\"SELECT * FROM `transaction`\", db)\n",
      "C:\\Users\\formacio\\AppData\\Local\\Temp\\ipykernel_4136\\4020352353.py:7: UserWarning: pandas only supports SQLAlchemy connectable (engine/connection) or database string URI or sqlite3 DBAPI2 connection. Other DBAPI2 objects are not tested. Please consider using SQLAlchemy.\n",
      "  user_df = pd.read_sql(\"SELECT * FROM `user`\", db)\n"
     ]
    },
    {
     "data": {
      "text/html": [
       "<div>\n",
       "<style scoped>\n",
       "    .dataframe tbody tr th:only-of-type {\n",
       "        vertical-align: middle;\n",
       "    }\n",
       "\n",
       "    .dataframe tbody tr th {\n",
       "        vertical-align: top;\n",
       "    }\n",
       "\n",
       "    .dataframe thead th {\n",
       "        text-align: right;\n",
       "    }\n",
       "</style>\n",
       "<table border=\"1\" class=\"dataframe\">\n",
       "  <thead>\n",
       "    <tr style=\"text-align: right;\">\n",
       "      <th></th>\n",
       "      <th>user_id</th>\n",
       "      <th>name</th>\n",
       "      <th>surname</th>\n",
       "      <th>phone</th>\n",
       "      <th>email</th>\n",
       "      <th>birthdate</th>\n",
       "      <th>country</th>\n",
       "      <th>city</th>\n",
       "      <th>postal_code</th>\n",
       "      <th>address</th>\n",
       "    </tr>\n",
       "  </thead>\n",
       "  <tbody>\n",
       "    <tr>\n",
       "      <th>0</th>\n",
       "      <td>1</td>\n",
       "      <td>Zeus</td>\n",
       "      <td>Gamble</td>\n",
       "      <td>1-282-581-0551</td>\n",
       "      <td>interdum.enim@protonmail.edu</td>\n",
       "      <td>1985-11-17</td>\n",
       "      <td>United States</td>\n",
       "      <td>Lowell</td>\n",
       "      <td>73544</td>\n",
       "      <td>348-7818 Sagittis St.</td>\n",
       "    </tr>\n",
       "    <tr>\n",
       "      <th>1</th>\n",
       "      <td>2</td>\n",
       "      <td>Garrett</td>\n",
       "      <td>Mcconnell</td>\n",
       "      <td>(718) 257-2412</td>\n",
       "      <td>integer.vitae.nibh@protonmail.org</td>\n",
       "      <td>1992-08-23</td>\n",
       "      <td>United States</td>\n",
       "      <td>Des Moines</td>\n",
       "      <td>59464</td>\n",
       "      <td>903 Sit Ave</td>\n",
       "    </tr>\n",
       "    <tr>\n",
       "      <th>2</th>\n",
       "      <td>3</td>\n",
       "      <td>Ciaran</td>\n",
       "      <td>Harrison</td>\n",
       "      <td>(522) 598-1365</td>\n",
       "      <td>interdum.feugiat@aol.org</td>\n",
       "      <td>1998-04-29</td>\n",
       "      <td>United States</td>\n",
       "      <td>Columbus</td>\n",
       "      <td>56518</td>\n",
       "      <td>736-2063 Tellus St.</td>\n",
       "    </tr>\n",
       "    <tr>\n",
       "      <th>3</th>\n",
       "      <td>4</td>\n",
       "      <td>Howard</td>\n",
       "      <td>Stafford</td>\n",
       "      <td>1-411-740-3269</td>\n",
       "      <td>ornare.egestas@icloud.edu</td>\n",
       "      <td>1989-02-18</td>\n",
       "      <td>United States</td>\n",
       "      <td>Kailua</td>\n",
       "      <td>77417</td>\n",
       "      <td>Ap #545-2244 Erat. Rd.</td>\n",
       "    </tr>\n",
       "    <tr>\n",
       "      <th>4</th>\n",
       "      <td>5</td>\n",
       "      <td>Hayfa</td>\n",
       "      <td>Pierce</td>\n",
       "      <td>1-554-541-2077</td>\n",
       "      <td>et.malesuada.fames@hotmail.org</td>\n",
       "      <td>1998-09-26</td>\n",
       "      <td>United States</td>\n",
       "      <td>Sandy</td>\n",
       "      <td>31564</td>\n",
       "      <td>341-2821 Ultrices Av.</td>\n",
       "    </tr>\n",
       "    <tr>\n",
       "      <th>...</th>\n",
       "      <td>...</td>\n",
       "      <td>...</td>\n",
       "      <td>...</td>\n",
       "      <td>...</td>\n",
       "      <td>...</td>\n",
       "      <td>...</td>\n",
       "      <td>...</td>\n",
       "      <td>...</td>\n",
       "      <td>...</td>\n",
       "      <td>...</td>\n",
       "    </tr>\n",
       "    <tr>\n",
       "      <th>270</th>\n",
       "      <td>271</td>\n",
       "      <td>Leandra</td>\n",
       "      <td>Cherry</td>\n",
       "      <td>089-285-7016</td>\n",
       "      <td>lobortis.quis@hotmail.ca</td>\n",
       "      <td>1991-09-02</td>\n",
       "      <td>Canada</td>\n",
       "      <td>Gander</td>\n",
       "      <td>H6S 6M9</td>\n",
       "      <td>554-9293 Sollicitudin Av.</td>\n",
       "    </tr>\n",
       "    <tr>\n",
       "      <th>271</th>\n",
       "      <td>272</td>\n",
       "      <td>Hedwig</td>\n",
       "      <td>Gilbert</td>\n",
       "      <td>064-204-8788</td>\n",
       "      <td>sem.eget@icloud.edu</td>\n",
       "      <td>1991-04-16</td>\n",
       "      <td>Canada</td>\n",
       "      <td>Tuktoyaktuk</td>\n",
       "      <td>Q4C 3G7</td>\n",
       "      <td>P.O. Box 496, 5145 Sapien Road</td>\n",
       "    </tr>\n",
       "    <tr>\n",
       "      <th>272</th>\n",
       "      <td>273</td>\n",
       "      <td>Hilary</td>\n",
       "      <td>Ferguson</td>\n",
       "      <td>060-710-1604</td>\n",
       "      <td>sapien.molestie.orci@google.edu</td>\n",
       "      <td>1981-11-03</td>\n",
       "      <td>Canada</td>\n",
       "      <td>Pangnirtung</td>\n",
       "      <td>12T 5G4</td>\n",
       "      <td>Ap #736-4628 Cras St.</td>\n",
       "    </tr>\n",
       "    <tr>\n",
       "      <th>273</th>\n",
       "      <td>274</td>\n",
       "      <td>Jameson</td>\n",
       "      <td>Hunt</td>\n",
       "      <td>024-732-2321</td>\n",
       "      <td>fringilla@protonmail.com</td>\n",
       "      <td>1982-01-29</td>\n",
       "      <td>Canada</td>\n",
       "      <td>Township of Minden Hills</td>\n",
       "      <td>B6V 6N4</td>\n",
       "      <td>224-4927 Praesent Ave</td>\n",
       "    </tr>\n",
       "    <tr>\n",
       "      <th>274</th>\n",
       "      <td>275</td>\n",
       "      <td>Kenyon</td>\n",
       "      <td>Hartman</td>\n",
       "      <td>082-871-7248</td>\n",
       "      <td>convallis.ante.lectus@yahoo.com</td>\n",
       "      <td>1982-08-03</td>\n",
       "      <td>Canada</td>\n",
       "      <td>Richmond</td>\n",
       "      <td>R8H 2K2</td>\n",
       "      <td>8564 Facilisi. St.</td>\n",
       "    </tr>\n",
       "  </tbody>\n",
       "</table>\n",
       "<p>275 rows × 10 columns</p>\n",
       "</div>"
      ],
      "text/plain": [
       "     user_id     name    surname           phone  \\\n",
       "0          1     Zeus     Gamble  1-282-581-0551   \n",
       "1          2  Garrett  Mcconnell  (718) 257-2412   \n",
       "2          3   Ciaran   Harrison  (522) 598-1365   \n",
       "3          4   Howard   Stafford  1-411-740-3269   \n",
       "4          5    Hayfa     Pierce  1-554-541-2077   \n",
       "..       ...      ...        ...             ...   \n",
       "270      271  Leandra     Cherry    089-285-7016   \n",
       "271      272   Hedwig    Gilbert    064-204-8788   \n",
       "272      273   Hilary   Ferguson    060-710-1604   \n",
       "273      274  Jameson       Hunt    024-732-2321   \n",
       "274      275   Kenyon    Hartman    082-871-7248   \n",
       "\n",
       "                                 email   birthdate        country  \\\n",
       "0         interdum.enim@protonmail.edu  1985-11-17  United States   \n",
       "1    integer.vitae.nibh@protonmail.org  1992-08-23  United States   \n",
       "2             interdum.feugiat@aol.org  1998-04-29  United States   \n",
       "3            ornare.egestas@icloud.edu  1989-02-18  United States   \n",
       "4       et.malesuada.fames@hotmail.org  1998-09-26  United States   \n",
       "..                                 ...         ...            ...   \n",
       "270           lobortis.quis@hotmail.ca  1991-09-02         Canada   \n",
       "271                sem.eget@icloud.edu  1991-04-16         Canada   \n",
       "272    sapien.molestie.orci@google.edu  1981-11-03         Canada   \n",
       "273           fringilla@protonmail.com  1982-01-29         Canada   \n",
       "274    convallis.ante.lectus@yahoo.com  1982-08-03         Canada   \n",
       "\n",
       "                         city postal_code                         address  \n",
       "0                      Lowell       73544           348-7818 Sagittis St.  \n",
       "1                  Des Moines       59464                     903 Sit Ave  \n",
       "2                    Columbus       56518             736-2063 Tellus St.  \n",
       "3                      Kailua       77417          Ap #545-2244 Erat. Rd.  \n",
       "4                       Sandy       31564           341-2821 Ultrices Av.  \n",
       "..                        ...         ...                             ...  \n",
       "270                    Gander     H6S 6M9       554-9293 Sollicitudin Av.  \n",
       "271               Tuktoyaktuk     Q4C 3G7  P.O. Box 496, 5145 Sapien Road  \n",
       "272               Pangnirtung     12T 5G4           Ap #736-4628 Cras St.  \n",
       "273  Township of Minden Hills     B6V 6N4           224-4927 Praesent Ave  \n",
       "274                  Richmond     R8H 2K2              8564 Facilisi. St.  \n",
       "\n",
       "[275 rows x 10 columns]"
      ]
     },
     "execution_count": 5,
     "metadata": {},
     "output_type": "execute_result"
    }
   ],
   "source": [
    "db_connect()\n",
    "\n",
    "# extraer los datos de la DB. Iré añadiendo tablas según las vaya usando...\n",
    "if db and db.is_connected:\n",
    "    global tr_df, user_df\n",
    "    tr_df   = pd.read_sql(\"SELECT * FROM `transaction`\", db)\n",
    "    user_df = pd.read_sql(\"SELECT * FROM `user`\", db)\n",
    "\n",
    "tr_df\n",
    "user_df"
   ]
  },
  {
   "cell_type": "code",
   "execution_count": 6,
   "id": "a6605369",
   "metadata": {},
   "outputs": [
    {
     "data": {
      "text/plain": [
       "<Axes: title={'center': 'Transactions'}, xlabel='Status', ylabel='# of transactions'>"
      ]
     },
     "execution_count": 6,
     "metadata": {},
     "output_type": "execute_result"
    },
    {
     "data": {
      "image/png": "[encoded data removed]",
      "text/plain": [
       "<Figure size 640x480 with 1 Axes>"
      ]
     },
     "metadata": {},
     "output_type": "display_data"
    }
   ],
   "source": [
    "# Usando pandas para \"calcular\" las columnas, y crear el gráfico renombrando las columnas de \"0\" y \"1\" a \"Completadas\" y \"Declinadas\"ArithmeticErrordecl_df = tr_df.groupby('declined').count()\n",
    "decl_df = tr_df.groupby('declined').count()\n",
    "\n",
    "decl_df = decl_df.rename({0: \"Completed\", 1: \"Declined\"}, axis='index')['transaction_id']\n",
    "# decl_df = decl_df['transaction_id']\n",
    "# print(decl_df)\n",
    "decl_df.plot.bar(\n",
    "    title=\"Transactions\",\n",
    "    xlabel=\"Status\",\n",
    "    ylabel=\"# of transactions\",\n",
    "    rot=0\n",
    ")"
   ]
  },
  {
   "cell_type": "markdown",
   "id": "17885cee",
   "metadata": {},
   "source": [
    "#### T8.01 N1N2 Visualización de dos variables numéricas\n",
    "\n",
    "He añadido una nueva columna al dataset (\"age\"), para poder ver la distribución de edades de los compradores:"
   ]
  },
  {
   "cell_type": "code",
   "execution_count": 37,
   "id": "cfda4520",
   "metadata": {},
   "outputs": [
    {
     "data": {
      "text/plain": [
       "<Axes: title={'center': 'Age distribution'}, xlabel='Age', ylabel='# of Users'>"
      ]
     },
     "execution_count": 37,
     "metadata": {},
     "output_type": "execute_result"
    },
    {
     "data": {
      "image/png": "[encoded data removed]",
      "text/plain": [
       "<Figure size 640x480 with 1 Axes>"
      ]
     },
     "metadata": {},
     "output_type": "display_data"
    }
   ],
   "source": [
    "import dateutil\n",
    "from matplotlib.pyplot import xlabel, ylabel, yticks\n",
    "\n",
    "def age(birthdate: str):\n",
    "    dob = birthdate if type(birthdate) is not str \\\n",
    "                  else dateutil.parser.parse(birthdate).date()\n",
    "    hoy = dateutil.utils.today().date()\n",
    "    ddiff = hoy - dob\n",
    "    edad  = int(ddiff.days / 365.25)\n",
    "    # print(edad, \"años\")\n",
    "    return edad\n",
    "\n",
    "# Add age column to user dataframe\n",
    "user_df[\"age\"] = user_df['birthdate'].map(age)\n",
    "\n",
    "user_df.groupby('age')['age'].count().plot.bar(x='age',\n",
    "    title=\"Age distribution\",\n",
    "    ylabel=\"# of Users\",\n",
    "    xlabel=\"Age\"\n",
    ")\n",
    "\n",
    "# user_df.age.plot.hist()\n"
   ]
  },
  {
   "cell_type": "markdown",
   "id": "eb3c4f96",
   "metadata": {},
   "source": [
    "Continuando con las operaciones declinadas, veamos cómo lo han sido mes a mes.\n",
    "\n",
    "Pra ello, hay que agrupar las transacciones por mes (será la segunda variable numérica).\n",
    "\n",
    "\n",
    "```sql\n",
    "SELECT SUM(declined)   AS declined\n",
    "     , SUM(declined=0) AS successful\n",
    "  FROM `transaction`\n",
    "   GROUP BY MONTH(transaction_ts)\n",
    "```"
   ]
  },
  {
   "cell_type": "code",
   "execution_count": 7,
   "id": "611e1b38",
   "metadata": {},
   "outputs": [
    {
     "name": "stderr",
     "output_type": "stream",
     "text": [
      "C:\\Users\\formacio\\AppData\\Local\\Temp\\ipykernel_4136\\4083645749.py:12: UserWarning: pandas only supports SQLAlchemy connectable (engine/connection) or database string URI or sqlite3 DBAPI2 connection. Other DBAPI2 objects are not tested. Please consider using SQLAlchemy.\n",
      "  df = pd.read_sql(query, db)\n"
     ]
    },
    {
     "data": {
      "image/png": "[encoded data removed]",
      "text/plain": [
       "<Figure size 640x480 with 1 Axes>"
      ]
     },
     "metadata": {},
     "output_type": "display_data"
    }
   ],
   "source": [
    "db_connect()\n",
    "\n",
    "query = '''\n",
    "   SELECT MONTH(transaction_ts) AS month\n",
    "        , SUM(declined)   AS declined\n",
    "        , SUM(declined=0) AS successful\n",
    "     FROM `transaction`\n",
    " GROUP BY MONTH(transaction_ts)\n",
    " ORDER BY month\n",
    "'''\n",
    "if db and db.is_connected:\n",
    "    df = pd.read_sql(query, db)\n",
    "    df.plot.bar(x=\"month\")"
   ]
  },
  {
   "cell_type": "markdown",
   "id": "fd4c9347",
   "metadata": {},
   "source": [
    "sin embargo, lo correcto debería ser extraer solo los datos de la tabla, y \"procesar\" los datos con Pandas (agregaciones y demás)."
   ]
  }
 ],
 "metadata": {
  "kernelspec": {
   "display_name": "Python 3",
   "language": "python",
   "name": "python3"
  },
  "language_info": {
   "codemirror_mode": {
    "name": "ipython",
    "version": 3
   },
   "file_extension": ".py",
   "mimetype": "text/x-python",
   "name": "python",
   "nbconvert_exporter": "python",
   "pygments_lexer": "ipython3",
   "version": "3.11.9"
  }
 },
 "nbformat": 4,
 "nbformat_minor": 5
}
