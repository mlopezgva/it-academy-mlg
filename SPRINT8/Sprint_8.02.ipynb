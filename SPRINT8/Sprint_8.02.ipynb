{
 "cells": [
  {
   "cell_type": "markdown",
   "id": "ffe8136e",
   "metadata": {},
   "source": [
    "# SPRINT 8. Parte II\n",
    "> PowerBI + Python\n",
    "\n",
    "## Nivel 1\n",
    "Pasar todos los gráficos del S8_1N1 a PowerBI.\n",
    "\n",
    "El Script de conexión e importación de datos es este:"
   ]
  },
  {
   "cell_type": "code",
   "execution_count": null,
   "id": "977a3e4e",
   "metadata": {},
   "outputs": [],
   "source": [
    "import dateutil\n",
    "import pandas as pd\n",
    "import numpy as np\n",
    "import matplotlib.pyplot as plt\n",
    "import configparser\n",
    "import mysql.connector\n",
    "\n",
    "cfgFp = open(r'C:\\Users\\formacio\\Downloads\\mlg\\git_repo\\SPRINT8\\db.ini', mode='r')\n",
    "iniFp = configparser.ConfigParser()\n",
    "iniFp.read_file(cfgFp)\n",
    "dbCfg = dict(iniFp.items('database'))\n",
    "\n",
    "# exit()\n",
    "\n",
    "db = mysql.connector.connect(\n",
    "    host=dbCfg['host'],\n",
    "    database=dbCfg['database'],\n",
    "    user=dbCfg['user'],\n",
    "    password=dbCfg['password']\n",
    ")\n",
    "\n",
    "tr_df   = pd.read_sql(\"SELECT * FROM `transaction`\", db)\n",
    "\n",
    "user_df = pd.read_sql(\"SELECT * FROM `user`\", db)\n",
    "\n",
    "co_df = pd.read_sql(\"SELECT * FROM company\", db)\n",
    "\n",
    "pr_df   = pd.read_sql(\"SELECT * FROM product\", db)\n",
    "prtr_df = pd.read_sql(\"SELECT * FROM product_transaction\", db)\n",
    "\n",
    "def age(birthdate):\n",
    "    dob = pd.to_datetime(birthdate).date() if type(birthdate) is not str \\\n",
    "                  else dateutil.parser.parse(birthdate).date()\n",
    "    hoy = dateutil.utils.today().date()\n",
    "    ddiff = hoy - dob\n",
    "    edad  = int(ddiff.days / 365.25)\n",
    "    return edad\n",
    "\n",
    "# Add age column to user dataframe\n",
    "user_df[\"age\"] = user_df['birthdate'].map(age)\n"
   ]
  },
  {
   "cell_type": "markdown",
   "id": "6483460a",
   "metadata": {},
   "source": [
    "### S8.2N1E1\n",
    "Distribución de edades de los usuarios. El script utilizado es:"
   ]
  },
  {
   "cell_type": "code",
   "execution_count": null,
   "id": "6e1e38bc",
   "metadata": {},
   "outputs": [],
   "source": [
    "import matplotlib.pyplot as plt\n",
    "\n",
    "user_df = dataset\n",
    "user_df.groupby('age')['age'] \\\n",
    "        .count() \\\n",
    "        .plot.bar(\n",
    "            x='age',\n",
    "            # figsize=(10,5),\n",
    "            title=\"Age distribution\",\n",
    "            ylabel=\"# of Users\",\n",
    "            xlabel=\"Age\"\n",
    "        )\n",
    "plt.show()"
   ]
  },
  {
   "cell_type": "code",
   "execution_count": null,
   "id": "dd4580ec",
   "metadata": {},
   "outputs": [],
   "source": [
    "# Y el histograma es este. Aún no estoy seguro si dejarlo.\n"
   ]
  },
  {
   "cell_type": "markdown",
   "id": "88e4b899",
   "metadata": {},
   "source": [
    "### S8.1N1E2\n",
    "Dos variables numéricas.\n",
    "El código adaptado ha quedado así:"
   ]
  },
  {
   "cell_type": "code",
   "execution_count": null,
   "id": "d7482c20",
   "metadata": {},
   "outputs": [],
   "source": [
    "from matplotlib import pyplot, ticker\n",
    "import numpy as np\n",
    "\n",
    "productos = dataset\n",
    "salesXage = productos.get(['age', 'amount']) \\\n",
    "                     .groupby('age')['amount'] \\\n",
    "                     .agg(['sum', 'count'])\n",
    "\n",
    "f, sxa_gr = pyplot.subplots(figsize=(12,8))\n",
    "ages_list = salesXage.index\n",
    "bar_width = 0.4\n",
    "positions = np.arange(len(ages_list))\n",
    "\n",
    "sxa_gr.bar(\n",
    "    x=positions,\n",
    "    height=salesXage['count'], # transactions by age\n",
    "    width=bar_width,\n",
    "    label='# of sales',\n",
    "    color='#5c5'\n",
    ")\n",
    "\n",
    "sxa_gr.set_xlabel('Age')\n",
    "sxa_gr.set_ylabel('# of transactions')\n",
    "sxa_gr.set_xticks(positions, [str(n) for n in ages_list])\n",
    "\n",
    "sxa_gr2 = sxa_gr.twinx()\n",
    "sxa_gr2.bar(\n",
    "    x=positions+bar_width,\n",
    "    height=salesXage['sum'] / 1000,\n",
    "    width=bar_width,\n",
    "    label='Sales in M€',\n",
    "    color='#393'\n",
    ")\n",
    "sxa_gr2.set_ylabel('Sales in (in thousands of €)')\n",
    "sxa_gr2.yaxis.set_major_formatter(ticker.FormatStrFormatter('%dM €'))\n",
    "\n",
    "sxa_gr.set_title(\"Sales and revenue by customer age\")\n",
    "sxa_gr.legend(loc='upper left')\n",
    "sxa_gr2.legend(loc='upper right')\n",
    "\n",
    "pyplot.show()"
   ]
  }
 ],
 "metadata": {
  "kernelspec": {
   "display_name": "Python 3",
   "language": "python",
   "name": "python3"
  },
  "language_info": {
   "name": "python",
   "version": "3.13.5"
  }
 },
 "nbformat": 4,
 "nbformat_minor": 5
}
