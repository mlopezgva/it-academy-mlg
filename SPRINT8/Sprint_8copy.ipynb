{
 "cells": [
  {
   "cell_type": "markdown",
   "id": "46db96bc",
   "metadata": {},
   "source": [
    "# SPRINT 8 - Visualización de datos con Python"
   ]
  },
  {
   "cell_type": "code",
   "execution_count": null,
   "id": "defffe27",
   "metadata": {
    "tags": [
     "dbConnect"
    ]
   },
   "outputs": [
    {
     "data": {
      "text/plain": [
       "mysql.connector.connection_cext.CMySQLConnection"
      ]
     },
     "execution_count": 26,
     "metadata": {},
     "output_type": "execute_result"
    }
   ],
   "source": [
    "# Paso 1: conectar con la base de datos existente\n",
    "import configparser\n",
    "import mysql.connector\n",
    "import pandas as pd\n",
    "import sys\n",
    "import math\n",
    "\n",
    "LF=\"\\n\"\n",
    "def is_defined(varname):\n",
    "    return varname in globals()\n",
    "\n",
    "def is_dataFrame(varname):\n",
    "    return is_defined(varname) \\\n",
    "        and type(globals().get(varname)) is pd.core.frame.DataFrame\n",
    "\n",
    "def db_connect():\n",
    "    try:\n",
    "        cfgFp = open('db.ini', mode='r')\n",
    "        iniFp = configparser.ConfigParser()\n",
    "        iniFp.read_file(cfgFp)\n",
    "        dbCfg = dict(iniFp.items('connection'))\n",
    "\n",
    "        # print(dbCfg, dbCfg['host'])\n",
    "\n",
    "        if not is_defined('db'):\n",
    "            global db\n",
    "            db = mysql.connector.connect(\n",
    "                host     = dbCfg['host'],\n",
    "                database = dbCfg['database'],\n",
    "                user     = dbCfg['user'],\n",
    "                password = dbCfg['password']\n",
    "            )\n",
    "            print(\"Conectado!\")\n",
    "\n",
    "    except Exception as e:\n",
    "        print(e)\n",
    "\n",
    "# Aquí configurando cosas de genéricas de Pandas\n",
    "pd.set_option(\"display.max.columns\", None)\n",
    "pd.options.mode.copy_on_write = True\n",
    "\n",
    "# Funciones a usar más adelante\n",
    "def list_dividers(numbers, n):\n",
    "    max_value = max(numbers)\n",
    "    print(max_value)\n",
    "    next_multiple_of_5 = math.ceil(max_value / 5) * 5\n",
    "\n",
    "    points = []\n",
    "\n",
    "    for i in range(1, n):\n",
    "        point = int((i / n) * next_multiple_of_5)\n",
    "        points.append(point)\n",
    "\n",
    "    return points\n",
    "\n",
    "def color_list_to_dict(color_list):\n",
    "    color_map = dict(zip(\n",
    "        list_dividers(values, len(color_map))+['else'],\n",
    "        color_map\n",
    "    ))\n",
    "    return\n",
    "\n",
    "def get_color(number, color_map):\n",
    "    sorted_keys = sorted(key for key in color_map.keys() if isinstance(key, int))\n",
    "\n",
    "    # Primero los valores extremos...\n",
    "    if number < sorted_keys[0]:\n",
    "        return color_map[sorted_keys[0]]\n",
    "    elif number > sorted_keys[-1]:\n",
    "        return color_map['else']\n",
    "\n",
    "    # Ahora los valores de las keys\n",
    "    for key in sorted_keys:\n",
    "        if number < key:\n",
    "            return color_map[key]\n",
    "\n",
    "    return color_map[sorted_keys[-1]]\n",
    "\n",
    "def column_colors(values, color_map: dict):\n",
    "    '''\n",
    "    Calculates a color list for a given list of values, setting the color\n",
    "    for that value from a dictionary.\n",
    "\n",
    "    The 'else' key sets the color for any value greater than the last defined.\n",
    "    The dict will be sorted numerically, so is it not necessary (but better for\n",
    "    legibility) to create it already sorted.\n",
    "\n",
    "    Usage:\n",
    "        values = [2,4,5,7,9]\n",
    "        colormap1 = {4: 'red', 8: 'amber', 'else': 'green'}\n",
    "        colormap2 = {3: 'orange', 5: 'amber', 8: 'cyan', 'else': 'green'}\n",
    "\n",
    "        values2   = [10, 6, 10, 198, 12, 11, 116, 10, 4]\n",
    "        colormap3 = ['red', 'amber', 'green']\n",
    "\n",
    "        column_color(values, colormap1)\n",
    "\n",
    "        Would return\n",
    "\n",
    "        ['red', 'amber', 'amber', 'amber', 'green']\n",
    "\n",
    "        While\n",
    "\n",
    "        column_color(values, colormap2)\n",
    "\n",
    "        Should return\n",
    "\n",
    "        ['orange', 'amber', 'amber', 'cyan', 'green']\n",
    "    '''\n",
    "\n",
    "    # color_map _can_ be a list of colors, so it can be converted into a dict\n",
    "    # by calculating the keys with `list_dividers()`\n",
    "    if type(color_map) is list:\n",
    "        color_map = dict(zip(\n",
    "            list_dividers(values, len(color_map))+['else'],\n",
    "            color_map\n",
    "        ))\n",
    "        # print(color_map)\n",
    "\n",
    "    cc = []\n",
    "\n",
    "    for n in values:\n",
    "        cc.append(get_color(n, color_map))\n",
    "    return cc\n",
    "\n",
    "db_connect()\n",
    "type(db)"
   ]
  },
  {
   "cell_type": "markdown",
   "id": "ab38fe86",
   "metadata": {},
   "source": [
    "## Tarea S08.01\n",
    "\n",
    "### Nivel 1\n",
    "Realitza la connexió en Python amb el MySQL Workbench per a carregar tota la informació que tens en les taules.\n",
    "\n",
    "<div class=\"alert alert-block alert-warning\">\n",
    "\n",
    "**NOTA:**  \n",
    "Esta descripción es un tanto confusa: Python **NO** se conecta con *MySQL Workbench*; se puede conectar con el **servidor** de base de datos (RDBMS: _Relational DataBase Management Server_) MySQL (o MariaDB, o PostgreSQL, o...). *MySQL Workbench* es un **cliente** (que sí, puede gestionar el servidor) que se conecta al RDBMS, igual que lo hará Python.  \n",
    "Puede que parezca \"más fácil de entender\", pero sigue siendo incorrecto.\n",
    "\n",
    "Si en una entrevista técnica el aspirante dijese eso, posiblemente perdería puntos.\n",
    "</div>\n",
    "\n",
    "Realitzaràs una visualització per a cada exercici. Comenta el que et crida l'atenció de graficar aquesta variable, justifica l'elecció del gràfic i interpreta els resultats en funció de les teves dades.\n",
    "\n",
    "####"
   ]
  },
  {
   "cell_type": "markdown",
   "id": "8e3e734b",
   "metadata": {},
   "source": [
    "#### Conectar a DB y tablas\n",
    "Conectando a la DB y cargando las tablas que se usarán en los ejercicios."
   ]
  },
  {
   "cell_type": "code",
   "execution_count": 3,
   "id": "45b2c6a8",
   "metadata": {
    "tags": [
     "loadTables"
    ]
   },
   "outputs": [],
   "source": [
    "if not is_defined('db'):\n",
    "    print(\"Trying to connect to a database...\")\n",
    "    db_connect()\n",
    "\n",
    "# extraer los datos de la DB. Iré añadiendo tablas según las vaya usando...\n",
    "def load_tables():\n",
    "    global db, tr_df, user_df, co_df, pr_df, prtr_df\n",
    "\n",
    "    if not is_defined('db'):\n",
    "        raise Exception(\"Not connected to the Database.\")\n",
    "\n",
    "    try:\n",
    "        if not is_dataFrame('user_df'):\n",
    "            user_df = pd.read_sql(\"SELECT * FROM `user`\", db)\n",
    "            print(\"Tabla 'user' cargada correctamente\")\n",
    "\n",
    "        if not is_dataFrame('tr_df'):\n",
    "            tr_df = pd.read_sql(\"SELECT * FROM `transaction`\", db)\n",
    "            print(\"Tabla 'transaction' cargada correctamente\")\n",
    "\n",
    "        if not is_dataFrame('co_df'):\n",
    "            co_df = pd.read_sql(\"SELECT * FROM company\", db)\n",
    "            print(\"Tabla 'company' cargada correctamente\")\n",
    "\n",
    "        if not is_dataFrame('prtr_df'):\n",
    "            pr_df   = pd.read_sql(\"SELECT * FROM product\", db)\n",
    "            prtr_df = pd.read_sql(\"SELECT * FROM product_transaction\", db)\n",
    "            print(\"Tablas 'product' y 'product_transactions' cargada correctamente\")\n",
    "\n",
    "    except:\n",
    "        print(\"Error leyendo la DB...\")"
   ]
  },
  {
   "cell_type": "markdown",
   "id": "2f9bc2e1",
   "metadata": {},
   "source": [
    "#### T8.01 N1E1 Visualización de una variable numérica\n",
    "\n",
    "He elegido representar las operaciones declinadas y completadas.\n",
    "\n",
    "Para ello, hay que agrupar y contar las operaciones teniendo en cuenta si fueron completadas o no:\n",
    "º"
   ]
  },
  {
   "cell_type": "code",
   "execution_count": 16,
   "id": "8eb8a882",
   "metadata": {},
   "outputs": [
    {
     "name": "stderr",
     "output_type": "stream",
     "text": [
      "/tmp/ipykernel_2536441/1396384437.py:10: UserWarning: pandas only supports SQLAlchemy connectable (engine/connection) or database string URI or sqlite3 DBAPI2 connection. Other DBAPI2 objects are not tested. Please consider using SQLAlchemy.\n",
      "  df = pd.read_sql(query, con=db, columns=['declined'])\n"
     ]
    },
    {
     "data": {
      "image/png": "[encoded data removed]",
      "text/plain": [
       "<Figure size 432x288 with 1 Axes>"
      ]
     },
     "metadata": {
      "needs_background": "light"
     },
     "output_type": "display_data"
    }
   ],
   "source": [
    "load_tables()\n",
    "\n",
    "query = '''\n",
    "SELECT SUM(declined)   AS declined\n",
    "     , SUM(declined=0) AS successful\n",
    "  FROM `transaction`\n",
    "'''\n",
    "\n",
    "if 'db' in globals() and db.is_connected:\n",
    "    df = pd.read_sql(query, con=db, columns=['declined'])\n",
    "    df.plot.bar()"
   ]
  },
  {
   "cell_type": "markdown",
   "id": "75fc2991",
   "metadata": {},
   "source": [
    "Aunque... supongo que si se trata de usar pandas, la idea es hacer la selección y agregación usando la biblioteca y no SQL, ya que la \"_gracia_\" está en importar datos de Excel/hojas de cálculo, tablas HTML, CSV... donde no hay cómo hacer un GROUP BY o un MAX().\n",
    "(Esto no se dice tampoco en el enunciado... Solo \"conectar a la DB\"; si conecto a una DB para hacer un select, a algunos la manipulación se nos va directamente a SQL)."
   ]
  },
  {
   "cell_type": "code",
   "execution_count": 17,
   "id": "a6605369",
   "metadata": {},
   "outputs": [
    {
     "data": {
      "text/plain": [
       "<Axes: title={'center': 'Transactions'}, xlabel='Status', ylabel='# of transactions'>"
      ]
     },
     "execution_count": 17,
     "metadata": {},
     "output_type": "execute_result"
    },
    {
     "data": {
      "image/png": "[encoded data removed]",
      "text/plain": [
       "<Figure size 432x288 with 1 Axes>"
      ]
     },
     "metadata": {
      "needs_background": "light"
     },
     "output_type": "display_data"
    }
   ],
   "source": [
    "# Usando pandas para \"calcular\" las columnas, y crear el gráfico renombrando las columnas de \"0\" y \"1\" a \"Completadas\" y \"Declinadas\"ArithmeticErrordecl_df = tr_df.groupby('declined').count()\n",
    "decl_df = tr_df.filter(['transaction_id', 'declined']).groupby('declined').count()\n",
    "# decl_df = tr_df.groupby('declined').count()\n",
    "# print(decl_df)\n",
    "\n",
    "decl_df = decl_df.rename({0: \"Completed\", 1: \"Declined\"}, axis='index')['transaction_id']\n",
    "# decl_df = decl_df['transaction_id']\n",
    "# print(decl_df)\n",
    "decl_df.plot.bar(\n",
    "    title=\"Transactions\",\n",
    "    xlabel=\"Status\",\n",
    "    ylabel=\"# of transactions\",\n",
    "    color=['green', 'red'],\n",
    "    rot=0\n",
    ")"
   ]
  },
  {
   "cell_type": "markdown",
   "id": "17885cee",
   "metadata": {},
   "source": [
    "Pero esa variable (`declined`) resulta que es _booleana_, por más de sea un `0` o un `1` y la esté sumando...\n",
    "\n",
    "Así que para crear un gráfico con una variable numérica, he añadido una nueva columna al dataset (\"age\"), para poder ver la distribución de edades de los compradores, trabajando así con una variable numérica:"
   ]
  },
  {
   "cell_type": "code",
   "execution_count": 27,
   "id": "cfda4520",
   "metadata": {},
   "outputs": [
    {
     "name": "stdout",
     "output_type": "stream",
     "text": [
      "7\n",
      "{3: 'red', 6: 'orange', 'else': 'green'}\n"
     ]
    },
    {
     "data": {
      "text/plain": [
       "<Axes: title={'center': 'Age distribution'}, xlabel='Age', ylabel='# of Users'>"
      ]
     },
     "execution_count": 27,
     "metadata": {},
     "output_type": "execute_result"
    },
    {
     "data": {
      "image/png": "[encoded data removed]",
      "text/plain": [
       "<Figure size 1008x432 with 1 Axes>"
      ]
     },
     "metadata": {
      "needs_background": "light"
     },
     "output_type": "display_data"
    }
   ],
   "source": [
    "import dateutil\n",
    "from pandas import to_datetime\n",
    "\n",
    "def age(birthdate):\n",
    "    dob = to_datetime(birthdate).date() if type(birthdate) is not str \\\n",
    "                  else dateutil.parser.parse(birthdate).date()\n",
    "    hoy = dateutil.utils.today().date()\n",
    "    ddiff = hoy - dob\n",
    "    edad  = int(ddiff.days / 365.25)\n",
    "    # print(edad, \"años\")\n",
    "    return edad\n",
    "\n",
    "# Add age column to user dataframe\n",
    "user_df[\"age\"] = user_df['birthdate'].map(age)\n",
    "\n",
    "user_df.groupby('age')['age'] \\\n",
    "        .count() \\\n",
    "        .plot.bar(\n",
    "            x='age',\n",
    "            figsize=(14,6),\n",
    "            color=column_colors(user_df.groupby('age')['age'].count(), ['red', 'orange', 'green']),\n",
    "            title=\"Age distribution\",\n",
    "            ylabel=\"# of Users\",\n",
    "            xlabel=\"Age\"\n",
    "        )"
   ]
  },
  {
   "cell_type": "markdown",
   "id": "cf4aec0d",
   "metadata": {},
   "source": [
    "Observando la gráfica, vemos que no hay una distribución uniforme y, por tanto, podría decirse que las edades son \"aleatorias\" en su distribución, quizá con una prevalencia en la franja de 26 a 29 años, pero no es significativa."
   ]
  },
  {
   "cell_type": "code",
   "execution_count": 7,
   "id": "6793bd2a",
   "metadata": {},
   "outputs": [
    {
     "data": {
      "text/plain": [
       "<Axes: ylabel='Frequency'>"
      ]
     },
     "execution_count": 7,
     "metadata": {},
     "output_type": "execute_result"
    },
    {
     "data": {
      "image/png": "[encoded data removed]",
      "text/plain": [
       "<Figure size 720x216 with 1 Axes>"
      ]
     },
     "metadata": {
      "needs_background": "light"
     },
     "output_type": "display_data"
    }
   ],
   "source": [
    "user_df['age'].plot.hist(bins=25, color='teal', figsize=(10,3))"
   ]
  },
  {
   "cell_type": "markdown",
   "id": "a612416a",
   "metadata": {},
   "source": [
    "#### T8.01 N1E2 dues variables numèriques\n",
    "Podría ser el valor de la transacción por... número de transacciones? ¿Tiene algún sentido?\n",
    "Qui´za reuperando algún ejercicio anterior; por ejemplo: los productos más vendidos y el precio...\n",
    "```sql\n",
    "SELECT product_name, price\n",
    "     , COUNT(transaction_id)   AS transaction_count\n",
    "     , COUNT(DISTINCT user_id) AS buyers_count\n",
    "  FROM user_products\n",
    " GROUP BY product_name, price\n",
    " ORDER BY 3 DESC, 4 DESC,2 DESC\n",
    " ```"
   ]
  },
  {
   "cell_type": "code",
   "execution_count": 28,
   "id": "b8ac98a9",
   "metadata": {},
   "outputs": [
    {
     "name": "stdout",
     "output_type": "stream",
     "text": [
      "\n"
     ]
    },
    {
     "data": {
      "text/plain": [
       "[10, 6, 10, 198, 12, 11, 116, 10, 4]"
      ]
     },
     "execution_count": 28,
     "metadata": {},
     "output_type": "execute_result"
    }
   ],
   "source": [
    "load_tables()\n",
    "\n",
    "def fullname(row):\n",
    "    return f\"{row['name']} {row['surname']}\"\n",
    "\n",
    "user_df.drop('client', axis=1) if 'client' in user_df else print()\n",
    "\n",
    "if 'Client' not in user_df:\n",
    "    user_df['Client'] = user_df.apply(fullname, axis=1)\n",
    "\n",
    "# user_df['Client'].head()\n",
    "productos = prtr_df.merge(pr_df) \\\n",
    "                   .merge(tr_df) \\\n",
    "                   .merge(user_df)\n",
    "\n",
    "productos.groupby(['Client'])['product_id'].count().to_list()"
   ]
  },
  {
   "cell_type": "markdown",
   "id": "eb3c4f96",
   "metadata": {},
   "source": [
    "#### T8.01 N1E3 Una variable categòrica\n",
    "Podríamos listar los países de las compañías..."
   ]
  },
  {
   "cell_type": "code",
   "execution_count": null,
   "id": "611e1b38",
   "metadata": {},
   "outputs": [
    {
     "data": {
      "text/plain": [
       "<Axes: title={'center': \"Companies' Countries\"}, xlabel='Country', ylabel='Companies'>"
      ]
     },
     "execution_count": 38,
     "metadata": {},
     "output_type": "execute_result"
    },
    {
     "data": {
      "image/png": "[encoded data removed]",
      "text/plain": [
       "<Figure size 576x720 with 1 Axes>"
      ]
     },
     "metadata": {
      "needs_background": "light"
     },
     "output_type": "display_data"
    }
   ],
   "source": [
    "db_connect()\n",
    "\n",
    "load_tables()\n",
    "\n",
    "pastel_3colors = {4: '#f99', 8: '#99f', 'else': '#9f9'}\n",
    "graph_data     = co_df.groupby('country')['country'].count()#.sort_values()\n",
    "\n",
    "cc = column_colors(graph_data, pastel_3colors)\n",
    "# print(cc)\n",
    "\n",
    "graph_data.plot.barh(\n",
    "            x='age',\n",
    "            figsize=(8,10),\n",
    "            title=\"Companies' Countries\",\n",
    "            ylabel=\"Companies\",\n",
    "            xlabel=\"Country\",\n",
    "            color=cc\n",
    "        )"
   ]
  },
  {
   "cell_type": "markdown",
   "id": "fd4c9347",
   "metadata": {},
   "source": [
    "#### T8.01 N1E4 Una variable categòrica i una numèrica\n",
    "¿Total y cantidad de compras por mes? En una gráfica doble... Hmmm... ¿El mes es una variable categórica o numérica? En realidad se usa el valor numérico para agrupar, pero también es cierto que serviría igual el nombre del mes.\n",
    "\n",
    "(También, podríamos considerar que la gráfica anterior tiene una variable categórica: los países, y una numérica: la cantidad de vendedores)."
   ]
  },
  {
   "cell_type": "code",
   "execution_count": 40,
   "id": "29e9d509",
   "metadata": {},
   "outputs": [
    {
     "data": {
      "text/plain": [
       "[<matplotlib.axis.XTick at 0x7f1b2899e0b0>,\n",
       " <matplotlib.axis.XTick at 0x7f1b2899ca60>,\n",
       " <matplotlib.axis.XTick at 0x7f1b289b7d30>,\n",
       " <matplotlib.axis.XTick at 0x7f1b289e8a60>,\n",
       " <matplotlib.axis.XTick at 0x7f1b289e9750>,\n",
       " <matplotlib.axis.XTick at 0x7f1b289ea440>,\n",
       " <matplotlib.axis.XTick at 0x7f1b289e9a20>,\n",
       " <matplotlib.axis.XTick at 0x7f1b289eb490>,\n",
       " <matplotlib.axis.XTick at 0x7f1b289ebe20>,\n",
       " <matplotlib.axis.XTick at 0x7f1b2899d600>,\n",
       " <matplotlib.axis.XTick at 0x7f1b28805bd0>,\n",
       " <matplotlib.axis.XTick at 0x7f1b29cd5450>,\n",
       " <matplotlib.axis.XTick at 0x7f1b28806350>]"
      ]
     },
     "execution_count": 40,
     "metadata": {},
     "output_type": "execute_result"
    },
    {
     "data": {
      "image/png": "[encoded data removed]",
      "text/plain": [
       "<Figure size 864x360 with 1 Axes>"
      ]
     },
     "metadata": {
      "needs_background": "light"
     },
     "output_type": "display_data"
    }
   ],
   "source": [
    "from matplotlib import pyplot, ticker\n",
    "from datetime import datetime\n",
    "\n",
    "db_connect()\n",
    "load_tables()\n",
    "\n",
    "tr_df_agg  = tr_df[tr_df['declined']==0]  \\\n",
    "                        .get(['amount', 'transaction_ts'])  \\\n",
    "                        .groupby(pd.Grouper(\n",
    "                            key='transaction_ts',\n",
    "                            axis=0,\n",
    "                            origin='start',\n",
    "                            sort=True,\n",
    "                            freq='ME'\n",
    "                        )) \\\n",
    "                        .agg(['sum', 'count'])\n",
    "tr_agg     = tr_df_agg['amount']\n",
    "bar_values = tr_agg['count'].to_list()\n",
    "\n",
    "semaphor_colors = {\n",
    "    4:     '#f00',\n",
    "    7:     '#fb0',\n",
    "    'else': '#0f0'\n",
    "}\n",
    "\n",
    "# semaphor_colors = ['red', 'orange', 'green']\n",
    "cc     = column_colors(bar_values, semaphor_colors)\n",
    "xticks = [d.date().strftime('%Y - %b') for d in tr_agg.index]\n",
    "graph  = tr_agg['count'].plot(\n",
    "    kind=\"bar\",\n",
    "    color=cc,\n",
    "    rot=60,\n",
    "    figsize=(12,5),\n",
    "    xlabel=\"Month\",\n",
    "    ylabel=\"# of transactions\"\n",
    ")\n",
    "graph.legend([\"Transactions\"])\n",
    "graph.set_xticks(range(0, xticks.__len__()), xticks)"
   ]
  },
  {
   "cell_type": "markdown",
   "id": "2d1709ec",
   "metadata": {},
   "source": [
    "#### T8.01 N1E6 tres variables\n",
    "Aquí tenemos un agrupamiento por **país**, y mostrando la **cantidad de transacciones** _y_ el **valor** de dichas operaciones."
   ]
  },
  {
   "cell_type": "code",
   "execution_count": 41,
   "id": "ddb3bf68",
   "metadata": {},
   "outputs": [
    {
     "data": {
      "text/html": [
       "<div>\n",
       "<style scoped>\n",
       "    .dataframe tbody tr th:only-of-type {\n",
       "        vertical-align: middle;\n",
       "    }\n",
       "\n",
       "    .dataframe tbody tr th {\n",
       "        vertical-align: top;\n",
       "    }\n",
       "\n",
       "    .dataframe thead th {\n",
       "        text-align: right;\n",
       "    }\n",
       "</style>\n",
       "<table border=\"1\" class=\"dataframe\">\n",
       "  <thead>\n",
       "    <tr style=\"text-align: right;\">\n",
       "      <th></th>\n",
       "      <th>company_id</th>\n",
       "      <th>company_name</th>\n",
       "      <th>phone</th>\n",
       "      <th>email</th>\n",
       "      <th>country</th>\n",
       "      <th>website</th>\n",
       "      <th>transaction_id</th>\n",
       "      <th>user_id</th>\n",
       "      <th>credit_card_id</th>\n",
       "      <th>product_ids</th>\n",
       "      <th>transaction_ts</th>\n",
       "      <th>amount</th>\n",
       "      <th>latitude</th>\n",
       "      <th>longitude</th>\n",
       "      <th>declined</th>\n",
       "    </tr>\n",
       "  </thead>\n",
       "  <tbody>\n",
       "    <tr>\n",
       "      <th>0</th>\n",
       "      <td>b-2222</td>\n",
       "      <td>Ac Fermentum Incorporated</td>\n",
       "      <td>06 85 56 52 33</td>\n",
       "      <td>donec.porttitor.tellus@yahoo.net</td>\n",
       "      <td>Germany</td>\n",
       "      <td>https://instagram.com/site\\r</td>\n",
       "      <td>108B1D1D-5B23-A76C-55EF-C568E49A05DD</td>\n",
       "      <td>275</td>\n",
       "      <td>CcU-2938</td>\n",
       "      <td>[59]</td>\n",
       "      <td>2021-07-07 17:43:16</td>\n",
       "      <td>293.57</td>\n",
       "      <td>83.7839</td>\n",
       "      <td>-178.8600</td>\n",
       "      <td>0</td>\n",
       "    </tr>\n",
       "    <tr>\n",
       "      <th>1</th>\n",
       "      <td>b-2222</td>\n",
       "      <td>Ac Fermentum Incorporated</td>\n",
       "      <td>06 85 56 52 33</td>\n",
       "      <td>donec.porttitor.tellus@yahoo.net</td>\n",
       "      <td>Germany</td>\n",
       "      <td>https://instagram.com/site\\r</td>\n",
       "      <td>EA2C3281-C9C1-A387-44F8-729FB4B51C76</td>\n",
       "      <td>275</td>\n",
       "      <td>CcU-2938</td>\n",
       "      <td>[59, 79, 37, 73]</td>\n",
       "      <td>2021-05-09 10:25:08</td>\n",
       "      <td>119.36</td>\n",
       "      <td>20.2004</td>\n",
       "      <td>-116.8400</td>\n",
       "      <td>1</td>\n",
       "    </tr>\n",
       "    <tr>\n",
       "      <th>2</th>\n",
       "      <td>b-2226</td>\n",
       "      <td>Magna A Neque Industries</td>\n",
       "      <td>04 14 44 64 62</td>\n",
       "      <td>risus.donec.nibh@icloud.org</td>\n",
       "      <td>Australia</td>\n",
       "      <td>https://whatsapp.com/group/9\\r</td>\n",
       "      <td>7DC26247-20EC-53FE-E555-B6C2E55CA5D5</td>\n",
       "      <td>275</td>\n",
       "      <td>CcU-2945</td>\n",
       "      <td>[71, 41]</td>\n",
       "      <td>2022-02-04 15:52:56</td>\n",
       "      <td>312.50</td>\n",
       "      <td>58.9367</td>\n",
       "      <td>-76.8171</td>\n",
       "      <td>0</td>\n",
       "    </tr>\n",
       "    <tr>\n",
       "      <th>3</th>\n",
       "      <td>b-2226</td>\n",
       "      <td>Magna A Neque Industries</td>\n",
       "      <td>04 14 44 64 62</td>\n",
       "      <td>risus.donec.nibh@icloud.org</td>\n",
       "      <td>Australia</td>\n",
       "      <td>https://whatsapp.com/group/9\\r</td>\n",
       "      <td>FE96CE47-BD59-381C-4E18-E3CA3D44E8FF</td>\n",
       "      <td>275</td>\n",
       "      <td>CcU-2945</td>\n",
       "      <td>[3]</td>\n",
       "      <td>2021-06-15 00:26:29</td>\n",
       "      <td>480.13</td>\n",
       "      <td>-21.8805</td>\n",
       "      <td>-112.5880</td>\n",
       "      <td>1</td>\n",
       "    </tr>\n",
       "    <tr>\n",
       "      <th>4</th>\n",
       "      <td>b-2230</td>\n",
       "      <td>Fusce Corp.</td>\n",
       "      <td>08 14 97 58 85</td>\n",
       "      <td>risus@protonmail.edu</td>\n",
       "      <td>United States</td>\n",
       "      <td>https://pinterest.com/sub/cars\\r</td>\n",
       "      <td>72997E96-DC2C-A4D7-7C24-66C302F8AE5A</td>\n",
       "      <td>275</td>\n",
       "      <td>CcU-2952</td>\n",
       "      <td>[97, 41, 3]</td>\n",
       "      <td>2022-01-30 15:16:36</td>\n",
       "      <td>239.87</td>\n",
       "      <td>43.3584</td>\n",
       "      <td>-17.6580</td>\n",
       "      <td>0</td>\n",
       "    </tr>\n",
       "  </tbody>\n",
       "</table>\n",
       "</div>"
      ],
      "text/plain": [
       "  company_id               company_name           phone  \\\n",
       "0     b-2222  Ac Fermentum Incorporated  06 85 56 52 33   \n",
       "1     b-2222  Ac Fermentum Incorporated  06 85 56 52 33   \n",
       "2     b-2226   Magna A Neque Industries  04 14 44 64 62   \n",
       "3     b-2226   Magna A Neque Industries  04 14 44 64 62   \n",
       "4     b-2230                Fusce Corp.  08 14 97 58 85   \n",
       "\n",
       "                              email        country  \\\n",
       "0  donec.porttitor.tellus@yahoo.net        Germany   \n",
       "1  donec.porttitor.tellus@yahoo.net        Germany   \n",
       "2       risus.donec.nibh@icloud.org      Australia   \n",
       "3       risus.donec.nibh@icloud.org      Australia   \n",
       "4              risus@protonmail.edu  United States   \n",
       "\n",
       "                            website                        transaction_id  \\\n",
       "0      https://instagram.com/site\\r  108B1D1D-5B23-A76C-55EF-C568E49A05DD   \n",
       "1      https://instagram.com/site\\r  EA2C3281-C9C1-A387-44F8-729FB4B51C76   \n",
       "2    https://whatsapp.com/group/9\\r  7DC26247-20EC-53FE-E555-B6C2E55CA5D5   \n",
       "3    https://whatsapp.com/group/9\\r  FE96CE47-BD59-381C-4E18-E3CA3D44E8FF   \n",
       "4  https://pinterest.com/sub/cars\\r  72997E96-DC2C-A4D7-7C24-66C302F8AE5A   \n",
       "\n",
       "   user_id credit_card_id       product_ids      transaction_ts  amount  \\\n",
       "0      275       CcU-2938              [59] 2021-07-07 17:43:16  293.57   \n",
       "1      275       CcU-2938  [59, 79, 37, 73] 2021-05-09 10:25:08  119.36   \n",
       "2      275       CcU-2945          [71, 41] 2022-02-04 15:52:56  312.50   \n",
       "3      275       CcU-2945               [3] 2021-06-15 00:26:29  480.13   \n",
       "4      275       CcU-2952       [97, 41, 3] 2022-01-30 15:16:36  239.87   \n",
       "\n",
       "   latitude  longitude  declined  \n",
       "0   83.7839  -178.8600         0  \n",
       "1   20.2004  -116.8400         1  \n",
       "2   58.9367   -76.8171         0  \n",
       "3  -21.8805  -112.5880         1  \n",
       "4   43.3584   -17.6580         0  "
      ]
     },
     "execution_count": 41,
     "metadata": {},
     "output_type": "execute_result"
    }
   ],
   "source": [
    "db_connect()\n",
    "\n",
    "if db and db.is_connected:\n",
    "    if 'co_df' not in globals() or type(co_df) is not pd.core.frame.DataFrame:\n",
    "        load_tables()\n",
    "# tr_df.head()\n",
    "# co_df.head()\n",
    "cotr_df = co_df.merge(tr_df, how='inner', on='company_id')\n",
    "\n",
    "cotr_df.head()"
   ]
  },
  {
   "cell_type": "code",
   "execution_count": 47,
   "id": "8351e7a3",
   "metadata": {},
   "outputs": [
    {
     "name": "stdout",
     "output_type": "stream",
     "text": [
      "9\n",
      "{3: '#f00', 6: '#fb0', 'else': 'green'}\n",
      "['#fb0', '#fb0', '#f00', '#f00', '#fb0', '#fb0', '#fb0', 'green', 'green', '#fb0', 'green', '#f00', 'green', '#fb0', 'green']\n"
     ]
    },
    {
     "data": {
      "image/png": "[encoded data removed]",
      "text/plain": [
       "<Figure size 864x648 with 2 Axes>"
      ]
     },
     "metadata": {
      "needs_background": "light"
     },
     "output_type": "display_data"
    }
   ],
   "source": [
    "from matplotlib import ticker\n",
    "\n",
    "db_connect()\n",
    "load_tables()\n",
    "\n",
    "cotr_df = co_df.merge(tr_df, how='inner', on='company_id')\n",
    "\n",
    "tr_agg  = cotr_df[cotr_df['declined']==0]  \\\n",
    "                        .get(['amount', 'country'])  \\\n",
    "                        .groupby('country')  \\\n",
    "                        .agg(['sum', 'count'])\n",
    "\n",
    "fig, ax = pyplot.subplots()\n",
    "xLabels = tr_agg['amount'].index\n",
    "\n",
    "semaphor_colors = {\n",
    "    20:     '#f00',\n",
    "    60:     '#fb0',\n",
    "    'else': '#0f0'\n",
    "}\n",
    "if max(tr_agg['amount']['count']) < 20:\n",
    "    semaphor_colors = ['#f00', '#fb0', 'green']\n",
    "cc = column_colors(tr_agg['amount']['count'], semaphor_colors)\n",
    "print(cc)\n",
    "# print(tr_agg.head())\n",
    "\n",
    "graph = tr_agg['amount']['count'].plot(\n",
    "    kind=\"bar\",\n",
    "    figsize=(12,9),\n",
    "    color=cc,\n",
    "    rot=60,\n",
    "    ylabel=\"# of transactions\",\n",
    "    label=\"Transactions\",\n",
    "    legend=True,\n",
    "    ax=ax\n",
    ")\n",
    "graph.legend(labels=(\"Transactions\", \"Sales\"))\n",
    "\n",
    "# Ventas en otra escala, para que sea visible...\n",
    "graph2 = tr_agg['amount']['sum'].plot(\n",
    "    kind='line',\n",
    "    secondary_y=True,\n",
    "    legend=True,\n",
    "    ax=graph,\n",
    "    color='navy',\n",
    "    marker='o',\n",
    "    rot=60,\n",
    "    label=\"Sales\"\n",
    ")\n",
    "graph2.yaxis.set_major_formatter(ticker.FormatStrFormatter('%d €'))"
   ]
  }
 ],
 "metadata": {
  "kernelspec": {
   "display_name": "Python 3",
   "language": "python",
   "name": "python3"
  },
  "language_info": {
   "codemirror_mode": {
    "name": "ipython",
    "version": 3
   },
   "file_extension": ".py",
   "mimetype": "text/x-python",
   "name": "python",
   "nbconvert_exporter": "python",
   "pygments_lexer": "ipython3",
   "version": "3.10.12"
  }
 },
 "nbformat": 4,
 "nbformat_minor": 5
}
