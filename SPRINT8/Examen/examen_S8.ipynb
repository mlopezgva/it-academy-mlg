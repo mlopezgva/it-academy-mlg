{
 "cells": [
  {
   "cell_type": "code",
   "execution_count": null,
   "id": "dfbc4b3a",
   "metadata": {},
   "outputs": [],
   "source": []
  }
 ],
 "metadata": {
  "kernelspec": {
   "display_name": "Python 3",
   "language": "python",
   "name": "python3"
  },
  "language_info": {
   "name": "python",
   "version": "3.13.5"
  }
 },
 "nbformat": 4,
 "nbformat_minor": 5
}
